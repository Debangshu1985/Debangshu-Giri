{
 "cells": [
  {
   "cell_type": "code",
   "execution_count": 4,
   "id": "5f57893c",
   "metadata": {},
   "outputs": [
    {
     "name": "stdout",
     "output_type": "stream",
     "text": [
      "enter any no60\n"
     ]
    },
    {
     "data": {
      "text/plain": [
       "'60'"
      ]
     },
     "execution_count": 4,
     "metadata": {},
     "output_type": "execute_result"
    }
   ],
   "source": [
    "a=input(\"enter any no\")\n",
    "a"
   ]
  },
  {
   "cell_type": "code",
   "execution_count": 5,
   "id": "47707b37",
   "metadata": {},
   "outputs": [
    {
     "name": "stdout",
     "output_type": "stream",
     "text": [
      "enter any no40\n"
     ]
    },
    {
     "data": {
      "text/plain": [
       "'40'"
      ]
     },
     "execution_count": 5,
     "metadata": {},
     "output_type": "execute_result"
    }
   ],
   "source": [
    "b=input(\"enter any no\")\n",
    "b"
   ]
  },
  {
   "cell_type": "code",
   "execution_count": 6,
   "id": "39186b9f",
   "metadata": {},
   "outputs": [
    {
     "data": {
      "text/plain": [
       "'6040'"
      ]
     },
     "execution_count": 6,
     "metadata": {},
     "output_type": "execute_result"
    }
   ],
   "source": [
    "a+b"
   ]
  },
  {
   "cell_type": "code",
   "execution_count": 7,
   "id": "a45f4723",
   "metadata": {},
   "outputs": [
    {
     "data": {
      "text/plain": [
       "str"
      ]
     },
     "execution_count": 7,
     "metadata": {},
     "output_type": "execute_result"
    }
   ],
   "source": [
    "type(a)"
   ]
  },
  {
   "cell_type": "code",
   "execution_count": 8,
   "id": "ddbe4d6e",
   "metadata": {},
   "outputs": [
    {
     "data": {
      "text/plain": [
       "str"
      ]
     },
     "execution_count": 8,
     "metadata": {},
     "output_type": "execute_result"
    }
   ],
   "source": [
    "type(b)"
   ]
  },
  {
   "cell_type": "code",
   "execution_count": 12,
   "id": "4fe76984",
   "metadata": {},
   "outputs": [
    {
     "name": "stdout",
     "output_type": "stream",
     "text": [
      "enter any no60\n"
     ]
    },
    {
     "data": {
      "text/plain": [
       "60"
      ]
     },
     "execution_count": 12,
     "metadata": {},
     "output_type": "execute_result"
    }
   ],
   "source": [
    "a=int(input('enter any no'))\n",
    "a"
   ]
  },
  {
   "cell_type": "code",
   "execution_count": 13,
   "id": "b447eece",
   "metadata": {},
   "outputs": [
    {
     "data": {
      "text/plain": [
       "int"
      ]
     },
     "execution_count": 13,
     "metadata": {},
     "output_type": "execute_result"
    }
   ],
   "source": [
    "type(a)"
   ]
  },
  {
   "cell_type": "code",
   "execution_count": 14,
   "id": "ae014d05",
   "metadata": {},
   "outputs": [
    {
     "name": "stdout",
     "output_type": "stream",
     "text": [
      "enter any no40\n"
     ]
    },
    {
     "data": {
      "text/plain": [
       "40"
      ]
     },
     "execution_count": 14,
     "metadata": {},
     "output_type": "execute_result"
    }
   ],
   "source": [
    "b=int(input('enter any no'))\n",
    "b"
   ]
  },
  {
   "cell_type": "code",
   "execution_count": 15,
   "id": "2c2a99c4",
   "metadata": {},
   "outputs": [
    {
     "data": {
      "text/plain": [
       "100"
      ]
     },
     "execution_count": 15,
     "metadata": {},
     "output_type": "execute_result"
    }
   ],
   "source": [
    "a+b"
   ]
  },
  {
   "cell_type": "markdown",
   "id": "a1e80428",
   "metadata": {},
   "source": [
    "area of rectengle"
   ]
  },
  {
   "cell_type": "code",
   "execution_count": 25,
   "id": "85b7ac13",
   "metadata": {},
   "outputs": [
    {
     "name": "stdout",
     "output_type": "stream",
     "text": [
      "enter length45\n",
      "enter breadth40\n",
      "the area of the rectengle is are= 1800\n"
     ]
    }
   ],
   "source": [
    "length=int(input('enter length'))\n",
    "breadth=int(input('enter breadth'))\n",
    "area=length*breadth\n",
    "print('the area of the rectengle is are=',area )"
   ]
  },
  {
   "cell_type": "markdown",
   "id": "136318b5",
   "metadata": {},
   "source": [
    "Area of rectangle"
   ]
  },
  {
   "cell_type": "code",
   "execution_count": 28,
   "id": "154d7e04",
   "metadata": {},
   "outputs": [
    {
     "name": "stdout",
     "output_type": "stream",
     "text": [
      "enter any no of width45\n",
      "enter any no of length60\n",
      "the area of a rectangle is= 2700\n"
     ]
    }
   ],
   "source": [
    "width=int(input('enter any no of width'))\n",
    "length=int(input('enter any no of length'))                \n",
    "area=width*length\n",
    "print('the area of a rectangle is=',area)"
   ]
  },
  {
   "cell_type": "markdown",
   "id": "91b12eed",
   "metadata": {},
   "source": [
    "The area of a circle"
   ]
  },
  {
   "cell_type": "code",
   "execution_count": 30,
   "id": "11b1ca65",
   "metadata": {},
   "outputs": [
    {
     "data": {
      "text/plain": [
       "3.142857142857143"
      ]
     },
     "execution_count": 30,
     "metadata": {},
     "output_type": "execute_result"
    }
   ],
   "source": [
    "pi=22/7\n",
    "pi"
   ]
  },
  {
   "cell_type": "code",
   "execution_count": 35,
   "id": "419e4141",
   "metadata": {},
   "outputs": [
    {
     "name": "stdout",
     "output_type": "stream",
     "text": [
      "enter any no of radius60\n",
      "the area of circle is= 11304.0\n"
     ]
    }
   ],
   "source": [
    "pi=3.14\n",
    "radius=int(input('enter any no of radius'))\n",
    "areaofcircle=pi*(radius**2)\n",
    "print('the area of circle is=',areaofcircle)"
   ]
  },
  {
   "cell_type": "markdown",
   "id": "660ab449",
   "metadata": {},
   "source": [
    "The Area of Rectangle"
   ]
  },
  {
   "cell_type": "code",
   "execution_count": 36,
   "id": "31ebb4aa",
   "metadata": {},
   "outputs": [
    {
     "name": "stdout",
     "output_type": "stream",
     "text": [
      "any no of length108\n",
      "any no of width80\n",
      "the area of rectangle is= 8640\n"
     ]
    }
   ],
   "source": [
    "length=int(input(\"any no of length\"))\n",
    "width=int(input(\"any no of width\"))\n",
    "areofrectangle=length*width\n",
    "print(\"the area of rectangle is=\",areofrectangle)"
   ]
  },
  {
   "cell_type": "code",
   "execution_count": 43,
   "id": "d2f71b72",
   "metadata": {},
   "outputs": [
    {
     "name": "stdout",
     "output_type": "stream",
     "text": [
      "any no of radius45\n",
      "the area of circle is= 6364.285714285714\n"
     ]
    },
    {
     "data": {
      "text/plain": [
       "6364.286"
      ]
     },
     "execution_count": 43,
     "metadata": {},
     "output_type": "execute_result"
    }
   ],
   "source": [
    "pi=22/7\n",
    "\n",
    "radius=int(input(\"any no of radius\"))\n",
    "areaofcircle=pi*(radius**2)\n",
    "print(\"the area of circle is=\",areaofcircle)\n",
    "round(areaofcircle,3)"
   ]
  },
  {
   "cell_type": "code",
   "execution_count": 47,
   "id": "4f4c3112",
   "metadata": {},
   "outputs": [
    {
     "name": "stdout",
     "output_type": "stream",
     "text": [
      "enter any no of pi value3.14\n",
      "enter any no of radius value45\n",
      "the area of circle is= 6358.5\n"
     ]
    },
    {
     "data": {
      "text/plain": [
       "6358.5"
      ]
     },
     "execution_count": 47,
     "metadata": {},
     "output_type": "execute_result"
    }
   ],
   "source": [
    "pi=float(input(\"enter any no of pi value\"))\n",
    "radius=int(input(\"enter any no of radius value\"))\n",
    "areaofcircle=pi*(radius**2)\n",
    "print(\"the area of circle is=\",areaofcircle)\n",
    "round(areaofcircle,2)"
   ]
  },
  {
   "cell_type": "markdown",
   "id": "55c6badf",
   "metadata": {},
   "source": [
    "circumference of circle 2*pi*r"
   ]
  },
  {
   "cell_type": "code",
   "execution_count": 53,
   "id": "8d7d31fa",
   "metadata": {},
   "outputs": [
    {
     "name": "stdout",
     "output_type": "stream",
     "text": [
      "enter value of pi3.14\n",
      "enter any value of radius45\n",
      "the circumference of circle is= 282.6\n"
     ]
    },
    {
     "data": {
      "text/plain": [
       "282.6"
      ]
     },
     "execution_count": 53,
     "metadata": {},
     "output_type": "execute_result"
    }
   ],
   "source": [
    "pi=float(input('enter value of pi'))\n",
    "radius=int(input(\"enter any value of radius\"))\n",
    "circumferenceofcircle=2*pi*radius\n",
    "print(\"the circumference of circle is=\",circumferenceofcircle)\n",
    "round(circumferenceofcircle,2)"
   ]
  },
  {
   "cell_type": "code",
   "execution_count": null,
   "id": "4357429e",
   "metadata": {},
   "outputs": [],
   "source": []
  }
 ],
 "metadata": {
  "kernelspec": {
   "display_name": "Python 3 (ipykernel)",
   "language": "python",
   "name": "python3"
  },
  "language_info": {
   "codemirror_mode": {
    "name": "ipython",
    "version": 3
   },
   "file_extension": ".py",
   "mimetype": "text/x-python",
   "name": "python",
   "nbconvert_exporter": "python",
   "pygments_lexer": "ipython3",
   "version": "3.9.12"
  }
 },
 "nbformat": 4,
 "nbformat_minor": 5
}
