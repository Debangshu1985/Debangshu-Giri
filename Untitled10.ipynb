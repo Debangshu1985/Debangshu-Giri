{
 "cells": [
  {
   "cell_type": "markdown",
   "id": "af6ecaac",
   "metadata": {},
   "source": [
    "User Input"
   ]
  },
  {
   "cell_type": "code",
   "execution_count": 2,
   "id": "018cb7dd",
   "metadata": {},
   "outputs": [
    {
     "name": "stdout",
     "output_type": "stream",
     "text": [
      "enter any number 45\n"
     ]
    }
   ],
   "source": [
    "a=input(\"enter any number\")"
   ]
  },
  {
   "cell_type": "code",
   "execution_count": 3,
   "id": "b2e46a8b",
   "metadata": {},
   "outputs": [
    {
     "data": {
      "text/plain": [
       "' 45'"
      ]
     },
     "execution_count": 3,
     "metadata": {},
     "output_type": "execute_result"
    }
   ],
   "source": [
    "a"
   ]
  },
  {
   "cell_type": "code",
   "execution_count": 4,
   "id": "77d26536",
   "metadata": {},
   "outputs": [
    {
     "name": "stdout",
     "output_type": "stream",
     "text": [
      "enter amount 60\n"
     ]
    }
   ],
   "source": [
    "b=input(\"enter amount \")"
   ]
  },
  {
   "cell_type": "code",
   "execution_count": 5,
   "id": "ade9894e",
   "metadata": {},
   "outputs": [
    {
     "data": {
      "text/plain": [
       "'60'"
      ]
     },
     "execution_count": 5,
     "metadata": {},
     "output_type": "execute_result"
    }
   ],
   "source": [
    "b"
   ]
  },
  {
   "cell_type": "code",
   "execution_count": 6,
   "id": "6aca449f",
   "metadata": {},
   "outputs": [
    {
     "data": {
      "text/plain": [
       "' 4560'"
      ]
     },
     "execution_count": 6,
     "metadata": {},
     "output_type": "execute_result"
    }
   ],
   "source": [
    "a+b"
   ]
  },
  {
   "cell_type": "code",
   "execution_count": 7,
   "id": "8da9f04c",
   "metadata": {},
   "outputs": [
    {
     "data": {
      "text/plain": [
       "str"
      ]
     },
     "execution_count": 7,
     "metadata": {},
     "output_type": "execute_result"
    }
   ],
   "source": [
    "type(a)"
   ]
  },
  {
   "cell_type": "code",
   "execution_count": 8,
   "id": "517ea459",
   "metadata": {},
   "outputs": [
    {
     "data": {
      "text/plain": [
       "str"
      ]
     },
     "execution_count": 8,
     "metadata": {},
     "output_type": "execute_result"
    }
   ],
   "source": [
    "type(b)"
   ]
  },
  {
   "cell_type": "markdown",
   "id": "18382d88",
   "metadata": {},
   "source": [
    "\"String Concatination\""
   ]
  },
  {
   "cell_type": "code",
   "execution_count": 10,
   "id": "db7af054",
   "metadata": {},
   "outputs": [
    {
     "name": "stdout",
     "output_type": "stream",
     "text": [
      "enter any value 45\n"
     ]
    }
   ],
   "source": [
    "a=int(input(\"enter any value \"))"
   ]
  },
  {
   "cell_type": "code",
   "execution_count": 11,
   "id": "f0d4dba2",
   "metadata": {},
   "outputs": [
    {
     "data": {
      "text/plain": [
       "45"
      ]
     },
     "execution_count": 11,
     "metadata": {},
     "output_type": "execute_result"
    }
   ],
   "source": [
    "a"
   ]
  },
  {
   "cell_type": "code",
   "execution_count": 12,
   "id": "5603d5f0",
   "metadata": {},
   "outputs": [
    {
     "data": {
      "text/plain": [
       "int"
      ]
     },
     "execution_count": 12,
     "metadata": {},
     "output_type": "execute_result"
    }
   ],
   "source": [
    "type(a)"
   ]
  },
  {
   "cell_type": "code",
   "execution_count": 13,
   "id": "1266605e",
   "metadata": {},
   "outputs": [
    {
     "name": "stdout",
     "output_type": "stream",
     "text": [
      "enter b value 60\n"
     ]
    }
   ],
   "source": [
    "b=int(input(\"enter b value \"))"
   ]
  },
  {
   "cell_type": "code",
   "execution_count": 14,
   "id": "20b1ce6f",
   "metadata": {},
   "outputs": [
    {
     "data": {
      "text/plain": [
       "60"
      ]
     },
     "execution_count": 14,
     "metadata": {},
     "output_type": "execute_result"
    }
   ],
   "source": [
    "b"
   ]
  },
  {
   "cell_type": "code",
   "execution_count": 16,
   "id": "e7343479",
   "metadata": {},
   "outputs": [
    {
     "data": {
      "text/plain": [
       "int"
      ]
     },
     "execution_count": 16,
     "metadata": {},
     "output_type": "execute_result"
    }
   ],
   "source": [
    "type(b)"
   ]
  },
  {
   "cell_type": "code",
   "execution_count": 17,
   "id": "daf256b0",
   "metadata": {},
   "outputs": [
    {
     "data": {
      "text/plain": [
       "105"
      ]
     },
     "execution_count": 17,
     "metadata": {},
     "output_type": "execute_result"
    }
   ],
   "source": [
    "a+b"
   ]
  },
  {
   "cell_type": "markdown",
   "id": "17871b7d",
   "metadata": {},
   "source": [
    "Area of rectangle"
   ]
  },
  {
   "cell_type": "code",
   "execution_count": 20,
   "id": "c98bd79a",
   "metadata": {},
   "outputs": [
    {
     "name": "stdout",
     "output_type": "stream",
     "text": [
      "enter the length value 45\n",
      "enter width value 60\n",
      "the area of rectangel is  2700\n"
     ]
    }
   ],
   "source": [
    "length=int(input(\"enter the length value \"))\n",
    "width=int(input(\"enter width value \"))\n",
    "\n",
    "area=length*width\n",
    "\n",
    "print(\"the area of rectangel is \",area)"
   ]
  },
  {
   "cell_type": "code",
   "execution_count": 24,
   "id": "5825edd9",
   "metadata": {},
   "outputs": [
    {
     "name": "stdout",
     "output_type": "stream",
     "text": [
      "enter radius value 5\n",
      "area of radius is  78.5\n"
     ]
    }
   ],
   "source": [
    "pi=3.14\n",
    "\n",
    "radius=int(input(\"enter radius value \"))\n",
    "area_of_radius=pi*(radius**2)\n",
    "print(\"area of radius is \",area_of_radius)"
   ]
  },
  {
   "cell_type": "code",
   "execution_count": 25,
   "id": "c39c3490",
   "metadata": {},
   "outputs": [
    {
     "data": {
      "text/plain": [
       "596"
      ]
     },
     "execution_count": 25,
     "metadata": {},
     "output_type": "execute_result"
    }
   ],
   "source": [
    "round(596.2015486)"
   ]
  },
  {
   "cell_type": "code",
   "execution_count": 26,
   "id": "3d937faa",
   "metadata": {},
   "outputs": [
    {
     "data": {
      "text/plain": [
       "596.2"
      ]
     },
     "execution_count": 26,
     "metadata": {},
     "output_type": "execute_result"
    }
   ],
   "source": [
    "round(596.2015486,2)"
   ]
  },
  {
   "cell_type": "code",
   "execution_count": 31,
   "id": "4960b934",
   "metadata": {},
   "outputs": [
    {
     "name": "stdout",
     "output_type": "stream",
     "text": [
      "enter pi value3.14\n",
      "enter any value of radius 5.6\n",
      "area of radius  98.4704 round 98.47\n"
     ]
    }
   ],
   "source": [
    "pi=float(input(\"enter pi value\"))\n",
    "\n",
    "radius=float(input(\"enter any value of radius \"))\n",
    "\n",
    "area_of_radius=pi*(radius**2)\n",
    "print(\"area of radius \",area_of_radius,\"round\",round(area_of_radius,2))"
   ]
  },
  {
   "cell_type": "markdown",
   "id": "434de707",
   "metadata": {},
   "source": [
    "circumferance"
   ]
  },
  {
   "cell_type": "code",
   "execution_count": 37,
   "id": "81245ae3",
   "metadata": {},
   "outputs": [
    {
     "name": "stdout",
     "output_type": "stream",
     "text": [
      "enter any value of pi 3.14\n",
      "enter radius value 58.9\n",
      "the circumferance of radius is  369.892 is  369.89\n"
     ]
    }
   ],
   "source": [
    "pi=float(input(\"enter any value of pi \"))\n",
    "\n",
    "\n",
    "r=float(input(\"enter radius value \"))\n",
    "circumferance=2*pi*r\n",
    "print(\"the circumferance of radius is \",circumferance,\"is \",round(circumferance,2))"
   ]
  },
  {
   "cell_type": "code",
   "execution_count": null,
   "id": "bf7bb8c5",
   "metadata": {},
   "outputs": [],
   "source": []
  }
 ],
 "metadata": {
  "kernelspec": {
   "display_name": "Python 3 (ipykernel)",
   "language": "python",
   "name": "python3"
  },
  "language_info": {
   "codemirror_mode": {
    "name": "ipython",
    "version": 3
   },
   "file_extension": ".py",
   "mimetype": "text/x-python",
   "name": "python",
   "nbconvert_exporter": "python",
   "pygments_lexer": "ipython3",
   "version": "3.9.13"
  }
 },
 "nbformat": 4,
 "nbformat_minor": 5
}
