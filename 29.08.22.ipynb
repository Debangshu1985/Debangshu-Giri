{
 "cells": [
  {
   "cell_type": "markdown",
   "id": "67d47bfc",
   "metadata": {},
   "source": [
    "# Welcome to Python"
   ]
  },
  {
   "cell_type": "markdown",
   "id": "b66f7e23",
   "metadata": {},
   "source": [
    "learning python is basic"
   ]
  },
  {
   "cell_type": "markdown",
   "id": "0cf922f1",
   "metadata": {},
   "source": [
    "working with operators"
   ]
  },
  {
   "cell_type": "code",
   "execution_count": 1,
   "id": "220566e5",
   "metadata": {},
   "outputs": [
    {
     "data": {
      "text/plain": [
       "4"
      ]
     },
     "execution_count": 1,
     "metadata": {},
     "output_type": "execute_result"
    }
   ],
   "source": [
    "2+2"
   ]
  },
  {
   "cell_type": "code",
   "execution_count": 2,
   "id": "b850dd46",
   "metadata": {},
   "outputs": [
    {
     "data": {
      "text/plain": [
       "1"
      ]
     },
     "execution_count": 2,
     "metadata": {},
     "output_type": "execute_result"
    }
   ],
   "source": [
    "2-1"
   ]
  },
  {
   "cell_type": "code",
   "execution_count": 3,
   "id": "bd3a5c1f",
   "metadata": {},
   "outputs": [
    {
     "data": {
      "text/plain": [
       "6"
      ]
     },
     "execution_count": 3,
     "metadata": {},
     "output_type": "execute_result"
    }
   ],
   "source": [
    "2*3"
   ]
  },
  {
   "cell_type": "code",
   "execution_count": 4,
   "id": "60a4c5d1",
   "metadata": {},
   "outputs": [
    {
     "data": {
      "text/plain": [
       "40"
      ]
     },
     "execution_count": 4,
     "metadata": {},
     "output_type": "execute_result"
    }
   ],
   "source": [
    "5*8"
   ]
  },
  {
   "cell_type": "code",
   "execution_count": 5,
   "id": "dfd9ea6f",
   "metadata": {},
   "outputs": [
    {
     "data": {
      "text/plain": [
       "5.0"
      ]
     },
     "execution_count": 5,
     "metadata": {},
     "output_type": "execute_result"
    }
   ],
   "source": [
    "10/2"
   ]
  },
  {
   "cell_type": "code",
   "execution_count": 6,
   "id": "fba572bf",
   "metadata": {},
   "outputs": [
    {
     "data": {
      "text/plain": [
       "5"
      ]
     },
     "execution_count": 6,
     "metadata": {},
     "output_type": "execute_result"
    }
   ],
   "source": [
    "10//2"
   ]
  },
  {
   "cell_type": "code",
   "execution_count": 7,
   "id": "d78c8757",
   "metadata": {},
   "outputs": [
    {
     "data": {
      "text/plain": [
       "10.0"
      ]
     },
     "execution_count": 7,
     "metadata": {},
     "output_type": "execute_result"
    }
   ],
   "source": [
    "60/6"
   ]
  },
  {
   "cell_type": "markdown",
   "id": "94fa85c7",
   "metadata": {},
   "source": [
    "Floor Division"
   ]
  },
  {
   "cell_type": "code",
   "execution_count": 8,
   "id": "a4e9063a",
   "metadata": {},
   "outputs": [
    {
     "data": {
      "text/plain": [
       "5"
      ]
     },
     "execution_count": 8,
     "metadata": {},
     "output_type": "execute_result"
    }
   ],
   "source": [
    "10//2"
   ]
  },
  {
   "cell_type": "code",
   "execution_count": 9,
   "id": "46b4ac4a",
   "metadata": {},
   "outputs": [
    {
     "data": {
      "text/plain": [
       "30"
      ]
     },
     "execution_count": 9,
     "metadata": {},
     "output_type": "execute_result"
    }
   ],
   "source": [
    "60//2"
   ]
  },
  {
   "cell_type": "markdown",
   "id": "a8d691f3",
   "metadata": {},
   "source": [
    "Power operators"
   ]
  },
  {
   "cell_type": "code",
   "execution_count": 10,
   "id": "9a2e0850",
   "metadata": {},
   "outputs": [
    {
     "data": {
      "text/plain": [
       "4"
      ]
     },
     "execution_count": 10,
     "metadata": {},
     "output_type": "execute_result"
    }
   ],
   "source": [
    "2**2"
   ]
  },
  {
   "cell_type": "code",
   "execution_count": 12,
   "id": "da1e1912",
   "metadata": {},
   "outputs": [
    {
     "data": {
      "text/plain": [
       "8"
      ]
     },
     "execution_count": 12,
     "metadata": {},
     "output_type": "execute_result"
    }
   ],
   "source": [
    "2**3"
   ]
  },
  {
   "cell_type": "code",
   "execution_count": 13,
   "id": "7e439ced",
   "metadata": {},
   "outputs": [
    {
     "data": {
      "text/plain": [
       "16777216"
      ]
     },
     "execution_count": 13,
     "metadata": {},
     "output_type": "execute_result"
    }
   ],
   "source": [
    "8**8"
   ]
  },
  {
   "cell_type": "code",
   "execution_count": 14,
   "id": "6353f0e2",
   "metadata": {},
   "outputs": [
    {
     "data": {
      "text/plain": [
       "27"
      ]
     },
     "execution_count": 14,
     "metadata": {},
     "output_type": "execute_result"
    }
   ],
   "source": [
    "3**3"
   ]
  },
  {
   "cell_type": "markdown",
   "id": "c2e8c2b6",
   "metadata": {},
   "source": [
    "Squre Root"
   ]
  },
  {
   "cell_type": "code",
   "execution_count": 15,
   "id": "986ce872",
   "metadata": {},
   "outputs": [
    {
     "data": {
      "text/plain": [
       "8.0"
      ]
     },
     "execution_count": 15,
     "metadata": {},
     "output_type": "execute_result"
    }
   ],
   "source": [
    "64**(1/2)"
   ]
  },
  {
   "cell_type": "markdown",
   "id": "39008b46",
   "metadata": {},
   "source": [
    "Qube root"
   ]
  },
  {
   "cell_type": "code",
   "execution_count": 17,
   "id": "7ca0d1bc",
   "metadata": {},
   "outputs": [
    {
     "data": {
      "text/plain": [
       "5.0"
      ]
     },
     "execution_count": 17,
     "metadata": {},
     "output_type": "execute_result"
    }
   ],
   "source": [
    "125**(1/3)"
   ]
  },
  {
   "cell_type": "code",
   "execution_count": 24,
   "id": "c9a73439",
   "metadata": {},
   "outputs": [
    {
     "data": {
      "text/plain": [
       "3.9999999999999996"
      ]
     },
     "execution_count": 24,
     "metadata": {},
     "output_type": "execute_result"
    }
   ],
   "source": [
    "64**(1/3)"
   ]
  },
  {
   "cell_type": "code",
   "execution_count": 21,
   "id": "f3a16004",
   "metadata": {},
   "outputs": [
    {
     "data": {
      "text/plain": [
       "12.0"
      ]
     },
     "execution_count": 21,
     "metadata": {},
     "output_type": "execute_result"
    }
   ],
   "source": [
    "144**(1/2)"
   ]
  },
  {
   "cell_type": "code",
   "execution_count": 25,
   "id": "7fe2c1d0",
   "metadata": {},
   "outputs": [
    {
     "name": "stdout",
     "output_type": "stream",
     "text": [
      "Hello\n"
     ]
    }
   ],
   "source": [
    "print('Hello')"
   ]
  },
  {
   "cell_type": "code",
   "execution_count": 26,
   "id": "c45c3432",
   "metadata": {},
   "outputs": [
    {
     "name": "stdout",
     "output_type": "stream",
     "text": [
      "Learning Python fundamental\n"
     ]
    }
   ],
   "source": [
    "print(\"Learning Python fundamental\")"
   ]
  },
  {
   "cell_type": "code",
   "execution_count": 27,
   "id": "af3bf5b3",
   "metadata": {},
   "outputs": [
    {
     "name": "stdout",
     "output_type": "stream",
     "text": [
      "Learning Python Fundamentals\n"
     ]
    }
   ],
   "source": [
    "print('Learning Python Fundamentals')"
   ]
  },
  {
   "cell_type": "markdown",
   "id": "b12af7d4",
   "metadata": {},
   "source": [
    "Variable"
   ]
  },
  {
   "cell_type": "code",
   "execution_count": 28,
   "id": "329138f7",
   "metadata": {},
   "outputs": [],
   "source": [
    "a=10"
   ]
  },
  {
   "cell_type": "code",
   "execution_count": 29,
   "id": "3bde1f02",
   "metadata": {},
   "outputs": [
    {
     "data": {
      "text/plain": [
       "10"
      ]
     },
     "execution_count": 29,
     "metadata": {},
     "output_type": "execute_result"
    }
   ],
   "source": [
    "a"
   ]
  },
  {
   "cell_type": "code",
   "execution_count": 30,
   "id": "caa79ce7",
   "metadata": {},
   "outputs": [],
   "source": [
    "b=12"
   ]
  },
  {
   "cell_type": "code",
   "execution_count": 31,
   "id": "9ff3e63a",
   "metadata": {},
   "outputs": [
    {
     "data": {
      "text/plain": [
       "12"
      ]
     },
     "execution_count": 31,
     "metadata": {},
     "output_type": "execute_result"
    }
   ],
   "source": [
    "b"
   ]
  },
  {
   "cell_type": "code",
   "execution_count": 32,
   "id": "242610bd",
   "metadata": {},
   "outputs": [
    {
     "data": {
      "text/plain": [
       "22"
      ]
     },
     "execution_count": 32,
     "metadata": {},
     "output_type": "execute_result"
    }
   ],
   "source": [
    "a+b"
   ]
  },
  {
   "cell_type": "code",
   "execution_count": 33,
   "id": "059c78a7",
   "metadata": {},
   "outputs": [
    {
     "data": {
      "text/plain": [
       "120"
      ]
     },
     "execution_count": 33,
     "metadata": {},
     "output_type": "execute_result"
    }
   ],
   "source": [
    "a*b"
   ]
  },
  {
   "cell_type": "code",
   "execution_count": 34,
   "id": "2b1158f4",
   "metadata": {},
   "outputs": [
    {
     "data": {
      "text/plain": [
       "0.8333333333333334"
      ]
     },
     "execution_count": 34,
     "metadata": {},
     "output_type": "execute_result"
    }
   ],
   "source": [
    "a/b"
   ]
  },
  {
   "cell_type": "code",
   "execution_count": 35,
   "id": "b231b0c0",
   "metadata": {},
   "outputs": [
    {
     "data": {
      "text/plain": [
       "4"
      ]
     },
     "execution_count": 35,
     "metadata": {},
     "output_type": "execute_result"
    }
   ],
   "source": [
    "2**2"
   ]
  },
  {
   "cell_type": "code",
   "execution_count": 36,
   "id": "82869c6e",
   "metadata": {},
   "outputs": [
    {
     "data": {
      "text/plain": [
       "134217728"
      ]
     },
     "execution_count": 36,
     "metadata": {},
     "output_type": "execute_result"
    }
   ],
   "source": [
    "8**9"
   ]
  },
  {
   "cell_type": "markdown",
   "id": "e8715ad4",
   "metadata": {},
   "source": [
    "Modulus"
   ]
  },
  {
   "cell_type": "code",
   "execution_count": 37,
   "id": "f4601671",
   "metadata": {},
   "outputs": [
    {
     "data": {
      "text/plain": [
       "0"
      ]
     },
     "execution_count": 37,
     "metadata": {},
     "output_type": "execute_result"
    }
   ],
   "source": [
    "10%2"
   ]
  },
  {
   "cell_type": "code",
   "execution_count": 38,
   "id": "49e28a97",
   "metadata": {},
   "outputs": [
    {
     "data": {
      "text/plain": [
       "1"
      ]
     },
     "execution_count": 38,
     "metadata": {},
     "output_type": "execute_result"
    }
   ],
   "source": [
    "11%2"
   ]
  },
  {
   "cell_type": "code",
   "execution_count": 39,
   "id": "eade08dd",
   "metadata": {},
   "outputs": [
    {
     "name": "stdout",
     "output_type": "stream",
     "text": [
      "22\n"
     ]
    }
   ],
   "source": [
    "c=a+b\n",
    "print(c)"
   ]
  },
  {
   "cell_type": "code",
   "execution_count": 42,
   "id": "f9d8cb17",
   "metadata": {},
   "outputs": [
    {
     "name": "stdout",
     "output_type": "stream",
     "text": [
      "c= 22\n"
     ]
    }
   ],
   "source": [
    "print(\"c=\",c)"
   ]
  },
  {
   "cell_type": "code",
   "execution_count": 44,
   "id": "661e107c",
   "metadata": {},
   "outputs": [
    {
     "name": "stdout",
     "output_type": "stream",
     "text": [
      "the value of y= 90\n"
     ]
    }
   ],
   "source": [
    "d=78\n",
    "g=98\n",
    "i=54\n",
    "o=32\n",
    "y=(d+g)-(i+o)\n",
    "print('the value of y=',y)"
   ]
  },
  {
   "cell_type": "code",
   "execution_count": 45,
   "id": "7a1606a6",
   "metadata": {},
   "outputs": [
    {
     "name": "stdout",
     "output_type": "stream",
     "text": [
      "the value of c= 22\n"
     ]
    }
   ],
   "source": [
    "print(\"the value of c=\",c)"
   ]
  },
  {
   "cell_type": "markdown",
   "id": "81c40ce0",
   "metadata": {},
   "source": [
    "Find the area of rectengle"
   ]
  },
  {
   "cell_type": "code",
   "execution_count": 59,
   "id": "cef00762",
   "metadata": {},
   "outputs": [
    {
     "name": "stdout",
     "output_type": "stream",
     "text": [
      "the area of Rectangle area= 430794\n",
      "the area of rectangle length is= 546 and width is= 789 is 430794\n"
     ]
    }
   ],
   "source": [
    "length=546\n",
    "width=789\n",
    "area=length*width\n",
    "area\n",
    "print('the area of Rectangle area=',area)\n",
    "print('the area of rectangle length is=',length,'and width is=',width,'is',area)"
   ]
  },
  {
   "cell_type": "code",
   "execution_count": 61,
   "id": "ce109247",
   "metadata": {},
   "outputs": [
    {
     "name": "stdout",
     "output_type": "stream",
     "text": [
      "the area of rectengle length is= 546 and width is= 789 is 430794\n"
     ]
    }
   ],
   "source": [
    "print('the area of rectengle length is=',length,'and width is=',width,'is',area)"
   ]
  },
  {
   "cell_type": "code",
   "execution_count": 64,
   "id": "4d555518",
   "metadata": {},
   "outputs": [
    {
     "name": "stdout",
     "output_type": "stream",
     "text": [
      "the area of rectangle is length= 546 and width is= 789 is area= 430794\n"
     ]
    }
   ],
   "source": [
    "print('the area of rectangle is length=',length,'and width is=',width,'is area=',area)"
   ]
  },
  {
   "cell_type": "markdown",
   "id": "8ac04433",
   "metadata": {},
   "source": [
    "Area of Circle"
   ]
  },
  {
   "cell_type": "code",
   "execution_count": 55,
   "id": "48243d06",
   "metadata": {},
   "outputs": [
    {
     "name": "stdout",
     "output_type": "stream",
     "text": [
      "the area of circle is area_of_circle= 706.5\n"
     ]
    }
   ],
   "source": [
    "pi=3.14    #constant\n",
    "\n",
    "radius=15\n",
    "area_of_circle=pi*(radius**2)\n",
    "area_of_circle\n",
    "print('the area of circle is area_of_circle=',area_of_circle)"
   ]
  },
  {
   "cell_type": "code",
   "execution_count": 65,
   "id": "51a40087",
   "metadata": {},
   "outputs": [
    {
     "name": "stdout",
     "output_type": "stream",
     "text": [
      "the area of circle pi is= 3.14 and radius is= 15 is area_of_circle= 706.5\n"
     ]
    }
   ],
   "source": [
    "print('the area of circle pi is=',pi,'and radius is=',radius,'is area_of_circle=',area_of_circle)"
   ]
  },
  {
   "cell_type": "markdown",
   "id": "d61c35bf",
   "metadata": {},
   "source": [
    "# above all data take \"\" or ''"
   ]
  },
  {
   "cell_type": "markdown",
   "id": "e174b76c",
   "metadata": {},
   "source": [
    "Work on comparetive symbol"
   ]
  },
  {
   "cell_type": "code",
   "execution_count": 67,
   "id": "90bd1aa5",
   "metadata": {},
   "outputs": [
    {
     "data": {
      "text/plain": [
       "True"
      ]
     },
     "execution_count": 67,
     "metadata": {},
     "output_type": "execute_result"
    }
   ],
   "source": [
    "True==True"
   ]
  },
  {
   "cell_type": "code",
   "execution_count": 69,
   "id": "40177ba2",
   "metadata": {},
   "outputs": [
    {
     "data": {
      "text/plain": [
       "True"
      ]
     },
     "execution_count": 69,
     "metadata": {},
     "output_type": "execute_result"
    }
   ],
   "source": [
    "100<200"
   ]
  },
  {
   "cell_type": "code",
   "execution_count": 70,
   "id": "38c48ace",
   "metadata": {},
   "outputs": [
    {
     "data": {
      "text/plain": [
       "True"
      ]
     },
     "execution_count": 70,
     "metadata": {},
     "output_type": "execute_result"
    }
   ],
   "source": [
    "800>546"
   ]
  },
  {
   "cell_type": "code",
   "execution_count": 71,
   "id": "394023b9",
   "metadata": {},
   "outputs": [
    {
     "data": {
      "text/plain": [
       "True"
      ]
     },
     "execution_count": 71,
     "metadata": {},
     "output_type": "execute_result"
    }
   ],
   "source": [
    "999==999"
   ]
  },
  {
   "cell_type": "code",
   "execution_count": 72,
   "id": "a30f0e4e",
   "metadata": {},
   "outputs": [
    {
     "data": {
      "text/plain": [
       "False"
      ]
     },
     "execution_count": 72,
     "metadata": {},
     "output_type": "execute_result"
    }
   ],
   "source": [
    "879==987"
   ]
  },
  {
   "cell_type": "code",
   "execution_count": 73,
   "id": "87bd15b5",
   "metadata": {},
   "outputs": [
    {
     "data": {
      "text/plain": [
       "False"
      ]
     },
     "execution_count": 73,
     "metadata": {},
     "output_type": "execute_result"
    }
   ],
   "source": [
    "200<100"
   ]
  },
  {
   "cell_type": "code",
   "execution_count": 74,
   "id": "9e1fdc96",
   "metadata": {},
   "outputs": [
    {
     "data": {
      "text/plain": [
       "False"
      ]
     },
     "execution_count": 74,
     "metadata": {},
     "output_type": "execute_result"
    }
   ],
   "source": [
    "200>300"
   ]
  },
  {
   "cell_type": "code",
   "execution_count": 75,
   "id": "dcaa0fdf",
   "metadata": {},
   "outputs": [
    {
     "data": {
      "text/plain": [
       "True"
      ]
     },
     "execution_count": 75,
     "metadata": {},
     "output_type": "execute_result"
    }
   ],
   "source": [
    "200*2==100*4"
   ]
  },
  {
   "cell_type": "code",
   "execution_count": 76,
   "id": "cfedf680",
   "metadata": {},
   "outputs": [
    {
     "data": {
      "text/plain": [
       "True"
      ]
     },
     "execution_count": 76,
     "metadata": {},
     "output_type": "execute_result"
    }
   ],
   "source": [
    "546*454>100*321"
   ]
  },
  {
   "cell_type": "code",
   "execution_count": 77,
   "id": "ccaec173",
   "metadata": {},
   "outputs": [
    {
     "data": {
      "text/plain": [
       "256"
      ]
     },
     "execution_count": 77,
     "metadata": {},
     "output_type": "execute_result"
    }
   ],
   "source": [
    "4**4"
   ]
  },
  {
   "cell_type": "code",
   "execution_count": 78,
   "id": "015687cf",
   "metadata": {},
   "outputs": [
    {
     "data": {
      "text/plain": [
       "4.0"
      ]
     },
     "execution_count": 78,
     "metadata": {},
     "output_type": "execute_result"
    }
   ],
   "source": [
    "256**(1/4)"
   ]
  },
  {
   "cell_type": "code",
   "execution_count": 79,
   "id": "c4c7e4a9",
   "metadata": {},
   "outputs": [
    {
     "data": {
      "text/plain": [
       "3.9999999999999996"
      ]
     },
     "execution_count": 79,
     "metadata": {},
     "output_type": "execute_result"
    }
   ],
   "source": [
    "64**(1/3)"
   ]
  },
  {
   "cell_type": "code",
   "execution_count": 80,
   "id": "dfcd0ad7",
   "metadata": {},
   "outputs": [
    {
     "data": {
      "text/plain": [
       "0"
      ]
     },
     "execution_count": 80,
     "metadata": {},
     "output_type": "execute_result"
    }
   ],
   "source": [
    "888%4"
   ]
  },
  {
   "cell_type": "code",
   "execution_count": 81,
   "id": "e47c2a66",
   "metadata": {},
   "outputs": [
    {
     "data": {
      "text/plain": [
       "1"
      ]
     },
     "execution_count": 81,
     "metadata": {},
     "output_type": "execute_result"
    }
   ],
   "source": [
    "889%4"
   ]
  },
  {
   "cell_type": "code",
   "execution_count": 82,
   "id": "130027bd",
   "metadata": {},
   "outputs": [
    {
     "data": {
      "text/plain": [
       "False"
      ]
     },
     "execution_count": 82,
     "metadata": {},
     "output_type": "execute_result"
    }
   ],
   "source": [
    "100!=100"
   ]
  },
  {
   "cell_type": "code",
   "execution_count": 83,
   "id": "0bec98bf",
   "metadata": {},
   "outputs": [
    {
     "data": {
      "text/plain": [
       "True"
      ]
     },
     "execution_count": 83,
     "metadata": {},
     "output_type": "execute_result"
    }
   ],
   "source": [
    "100!=200"
   ]
  },
  {
   "cell_type": "markdown",
   "id": "aacdee1d",
   "metadata": {},
   "source": [
    "comperative operators >,<,==,!="
   ]
  },
  {
   "cell_type": "code",
   "execution_count": 84,
   "id": "fac86e67",
   "metadata": {},
   "outputs": [
    {
     "data": {
      "text/plain": [
       "True"
      ]
     },
     "execution_count": 84,
     "metadata": {},
     "output_type": "execute_result"
    }
   ],
   "source": [
    "x=85\n",
    "y=90\n",
    "w=999\n",
    "w>x+y"
   ]
  },
  {
   "cell_type": "code",
   "execution_count": 85,
   "id": "2283b7ea",
   "metadata": {},
   "outputs": [
    {
     "data": {
      "text/plain": [
       "True"
      ]
     },
     "execution_count": 85,
     "metadata": {},
     "output_type": "execute_result"
    }
   ],
   "source": [
    "w!=x*y"
   ]
  },
  {
   "cell_type": "code",
   "execution_count": 86,
   "id": "43962b9b",
   "metadata": {},
   "outputs": [
    {
     "data": {
      "text/plain": [
       "False"
      ]
     },
     "execution_count": 86,
     "metadata": {},
     "output_type": "execute_result"
    }
   ],
   "source": [
    "w==x*y"
   ]
  },
  {
   "cell_type": "code",
   "execution_count": 87,
   "id": "4639578d",
   "metadata": {},
   "outputs": [
    {
     "data": {
      "text/plain": [
       "6"
      ]
     },
     "execution_count": 87,
     "metadata": {},
     "output_type": "execute_result"
    }
   ],
   "source": [
    "len('london')"
   ]
  },
  {
   "cell_type": "code",
   "execution_count": 88,
   "id": "4defb2aa",
   "metadata": {},
   "outputs": [
    {
     "data": {
      "text/plain": [
       "7"
      ]
     },
     "execution_count": 88,
     "metadata": {},
     "output_type": "execute_result"
    }
   ],
   "source": [
    "len('kolkata')"
   ]
  },
  {
   "cell_type": "code",
   "execution_count": 89,
   "id": "1f66818f",
   "metadata": {},
   "outputs": [],
   "source": [
    "city=('kolkata')"
   ]
  },
  {
   "cell_type": "code",
   "execution_count": 90,
   "id": "995a5c96",
   "metadata": {},
   "outputs": [
    {
     "data": {
      "text/plain": [
       "4"
      ]
     },
     "execution_count": 90,
     "metadata": {},
     "output_type": "execute_result"
    }
   ],
   "source": [
    "len('city')"
   ]
  },
  {
   "cell_type": "code",
   "execution_count": 91,
   "id": "093a4af4",
   "metadata": {},
   "outputs": [
    {
     "data": {
      "text/plain": [
       "7"
      ]
     },
     "execution_count": 91,
     "metadata": {},
     "output_type": "execute_result"
    }
   ],
   "source": [
    "len(city)"
   ]
  },
  {
   "cell_type": "code",
   "execution_count": 97,
   "id": "8f4aaf6e",
   "metadata": {},
   "outputs": [
    {
     "ename": "SyntaxError",
     "evalue": "invalid syntax (602107438.py, line 1)",
     "output_type": "error",
     "traceback": [
      "\u001b[1;36m  Input \u001b[1;32mIn [97]\u001b[1;36m\u001b[0m\n\u001b[1;33m    1data=int\u001b[0m\n\u001b[1;37m     ^\u001b[0m\n\u001b[1;31mSyntaxError\u001b[0m\u001b[1;31m:\u001b[0m invalid syntax\n"
     ]
    }
   ],
   "source": [
    "1data=int\n",
    "2data=float\n",
    "3data=str\n",
    "\n",
    "print('the data type are 1data=',1data,'and 2data=',2data,'and 3data=',3data,)"
   ]
  },
  {
   "cell_type": "code",
   "execution_count": 98,
   "id": "1af0e188",
   "metadata": {},
   "outputs": [
    {
     "data": {
      "text/plain": [
       "int"
      ]
     },
     "execution_count": 98,
     "metadata": {},
     "output_type": "execute_result"
    }
   ],
   "source": [
    "p=98\n",
    "type(p)"
   ]
  },
  {
   "cell_type": "code",
   "execution_count": 99,
   "id": "13d1ced4",
   "metadata": {},
   "outputs": [
    {
     "data": {
      "text/plain": [
       "98.0"
      ]
     },
     "execution_count": 99,
     "metadata": {},
     "output_type": "execute_result"
    }
   ],
   "source": [
    "float(p)"
   ]
  },
  {
   "cell_type": "code",
   "execution_count": 101,
   "id": "07600d12",
   "metadata": {},
   "outputs": [
    {
     "data": {
      "text/plain": [
       "float"
      ]
     },
     "execution_count": 101,
     "metadata": {},
     "output_type": "execute_result"
    }
   ],
   "source": [
    "j=float(p)\n",
    "type(j)"
   ]
  },
  {
   "cell_type": "code",
   "execution_count": 102,
   "id": "16944389",
   "metadata": {},
   "outputs": [
    {
     "data": {
      "text/plain": [
       "98"
      ]
     },
     "execution_count": 102,
     "metadata": {},
     "output_type": "execute_result"
    }
   ],
   "source": [
    "int(j)"
   ]
  },
  {
   "cell_type": "code",
   "execution_count": 103,
   "id": "958e464c",
   "metadata": {},
   "outputs": [
    {
     "data": {
      "text/plain": [
       "float"
      ]
     },
     "execution_count": 103,
     "metadata": {},
     "output_type": "execute_result"
    }
   ],
   "source": [
    "o=98.6\n",
    "type(o)"
   ]
  },
  {
   "cell_type": "code",
   "execution_count": 104,
   "id": "1bcfb253",
   "metadata": {},
   "outputs": [
    {
     "data": {
      "text/plain": [
       "98"
      ]
     },
     "execution_count": 104,
     "metadata": {},
     "output_type": "execute_result"
    }
   ],
   "source": [
    "int(o)"
   ]
  },
  {
   "cell_type": "code",
   "execution_count": 107,
   "id": "a22dacf4",
   "metadata": {},
   "outputs": [
    {
     "data": {
      "text/plain": [
       "float"
      ]
     },
     "execution_count": 107,
     "metadata": {},
     "output_type": "execute_result"
    }
   ],
   "source": [
    "f=78.5\n",
    "type(f)\n"
   ]
  },
  {
   "cell_type": "code",
   "execution_count": 109,
   "id": "c08253df",
   "metadata": {},
   "outputs": [],
   "source": [
    "u=int(f)"
   ]
  },
  {
   "cell_type": "code",
   "execution_count": 110,
   "id": "432958be",
   "metadata": {},
   "outputs": [
    {
     "data": {
      "text/plain": [
       "int"
      ]
     },
     "execution_count": 110,
     "metadata": {},
     "output_type": "execute_result"
    }
   ],
   "source": [
    "type(u)"
   ]
  },
  {
   "cell_type": "code",
   "execution_count": 111,
   "id": "fe7fc1fa",
   "metadata": {},
   "outputs": [
    {
     "data": {
      "text/plain": [
       "str"
      ]
     },
     "execution_count": 111,
     "metadata": {},
     "output_type": "execute_result"
    }
   ],
   "source": [
    "type('desktop')"
   ]
  },
  {
   "cell_type": "code",
   "execution_count": 113,
   "id": "423c1bdb",
   "metadata": {},
   "outputs": [
    {
     "data": {
      "text/plain": [
       "str"
      ]
     },
     "execution_count": 113,
     "metadata": {},
     "output_type": "execute_result"
    }
   ],
   "source": [
    "type('mobile')"
   ]
  },
  {
   "cell_type": "code",
   "execution_count": 114,
   "id": "2f9295fd",
   "metadata": {},
   "outputs": [
    {
     "data": {
      "text/plain": [
       "str"
      ]
     },
     "execution_count": 114,
     "metadata": {},
     "output_type": "execute_result"
    }
   ],
   "source": [
    "u=('98')\n",
    "type(u)"
   ]
  },
  {
   "cell_type": "code",
   "execution_count": 115,
   "id": "72ac1c7c",
   "metadata": {},
   "outputs": [
    {
     "data": {
      "text/plain": [
       "int"
      ]
     },
     "execution_count": 115,
     "metadata": {},
     "output_type": "execute_result"
    }
   ],
   "source": [
    "j=int(u)\n",
    "type(j)"
   ]
  },
  {
   "cell_type": "code",
   "execution_count": 116,
   "id": "6e8aa418",
   "metadata": {},
   "outputs": [
    {
     "data": {
      "text/plain": [
       "98"
      ]
     },
     "execution_count": 116,
     "metadata": {},
     "output_type": "execute_result"
    }
   ],
   "source": [
    "j"
   ]
  },
  {
   "cell_type": "markdown",
   "id": "3d7eb32c",
   "metadata": {},
   "source": [
    "String concadanation"
   ]
  },
  {
   "cell_type": "code",
   "execution_count": 120,
   "id": "d0654d5a",
   "metadata": {},
   "outputs": [
    {
     "data": {
      "text/plain": [
       "'88'"
      ]
     },
     "execution_count": 120,
     "metadata": {},
     "output_type": "execute_result"
    }
   ],
   "source": [
    "\"8\"+\"8\""
   ]
  },
  {
   "cell_type": "code",
   "execution_count": 121,
   "id": "cf9d126d",
   "metadata": {},
   "outputs": [
    {
     "data": {
      "text/plain": [
       "'9999'"
      ]
     },
     "execution_count": 121,
     "metadata": {},
     "output_type": "execute_result"
    }
   ],
   "source": [
    "'99'+'99'"
   ]
  },
  {
   "cell_type": "code",
   "execution_count": 124,
   "id": "1ea8c0a9",
   "metadata": {},
   "outputs": [
    {
     "data": {
      "text/plain": [
       "'abcd'"
      ]
     },
     "execution_count": 124,
     "metadata": {},
     "output_type": "execute_result"
    }
   ],
   "source": [
    "'ab'+'cd'"
   ]
  },
  {
   "cell_type": "code",
   "execution_count": 128,
   "id": "08765d70",
   "metadata": {},
   "outputs": [
    {
     "data": {
      "text/plain": [
       "'asus mobile'"
      ]
     },
     "execution_count": 128,
     "metadata": {},
     "output_type": "execute_result"
    }
   ],
   "source": [
    "'asus '+'mobile'"
   ]
  },
  {
   "cell_type": "code",
   "execution_count": 129,
   "id": "26fab1b8",
   "metadata": {},
   "outputs": [
    {
     "data": {
      "text/plain": [
       "'birthday my is 08.11.1985'"
      ]
     },
     "execution_count": 129,
     "metadata": {},
     "output_type": "execute_result"
    }
   ],
   "source": [
    "'birthday '+'my '+'is '+'08.11.1985'"
   ]
  },
  {
   "cell_type": "code",
   "execution_count": null,
   "id": "01454be8",
   "metadata": {},
   "outputs": [],
   "source": [
    "country=input(\"enter any boys name\")"
   ]
  },
  {
   "cell_type": "code",
   "execution_count": null,
   "id": "d9fae1ab",
   "metadata": {},
   "outputs": [],
   "source": [
    "country=input('any country name')"
   ]
  },
  {
   "cell_type": "code",
   "execution_count": null,
   "id": "21caa177",
   "metadata": {},
   "outputs": [],
   "source": [
    "country"
   ]
  },
  {
   "cell_type": "code",
   "execution_count": null,
   "id": "d3cee6b6",
   "metadata": {},
   "outputs": [],
   "source": [
    "girs=input('enter girls name')"
   ]
  },
  {
   "cell_type": "code",
   "execution_count": null,
   "id": "fc8f2320",
   "metadata": {},
   "outputs": [],
   "source": [
    "import keyword"
   ]
  },
  {
   "cell_type": "code",
   "execution_count": null,
   "id": "f4691fd6",
   "metadata": {},
   "outputs": [],
   "source": [
    "print(keyword.kwlist)"
   ]
  },
  {
   "cell_type": "code",
   "execution_count": null,
   "id": "44876ed0",
   "metadata": {},
   "outputs": [],
   "source": [
    "import keyword"
   ]
  },
  {
   "cell_type": "code",
   "execution_count": null,
   "id": "0bc5f38c",
   "metadata": {},
   "outputs": [],
   "source": [
    "print(keyword.kwlist)"
   ]
  },
  {
   "cell_type": "code",
   "execution_count": null,
   "id": "4eec3f2c",
   "metadata": {},
   "outputs": [],
   "source": [
    "wife=input('enter as wife name')"
   ]
  },
  {
   "cell_type": "code",
   "execution_count": null,
   "id": "564e758b",
   "metadata": {},
   "outputs": [],
   "source": []
  },
  {
   "cell_type": "code",
   "execution_count": null,
   "id": "4fc6c518",
   "metadata": {},
   "outputs": [],
   "source": []
  }
 ],
 "metadata": {
  "kernelspec": {
   "display_name": "Python 3 (ipykernel)",
   "language": "python",
   "name": "python3"
  },
  "language_info": {
   "codemirror_mode": {
    "name": "ipython",
    "version": 3
   },
   "file_extension": ".py",
   "mimetype": "text/x-python",
   "name": "python",
   "nbconvert_exporter": "python",
   "pygments_lexer": "ipython3",
   "version": "3.9.12"
  }
 },
 "nbformat": 4,
 "nbformat_minor": 5
}
