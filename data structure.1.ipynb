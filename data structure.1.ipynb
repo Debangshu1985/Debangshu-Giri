{
 "cells": [
  {
   "cell_type": "code",
   "execution_count": 2,
   "id": "d062b9a4",
   "metadata": {},
   "outputs": [],
   "source": [
    "planetnames=['mercury','venus','earth']"
   ]
  },
  {
   "cell_type": "code",
   "execution_count": 3,
   "id": "7e7ca79b",
   "metadata": {},
   "outputs": [
    {
     "data": {
      "text/plain": [
       "['mercury', 'venus', 'earth']"
      ]
     },
     "execution_count": 3,
     "metadata": {},
     "output_type": "execute_result"
    }
   ],
   "source": [
    "planetnames"
   ]
  },
  {
   "cell_type": "code",
   "execution_count": 6,
   "id": "1537c090",
   "metadata": {},
   "outputs": [
    {
     "data": {
      "text/plain": [
       "3"
      ]
     },
     "execution_count": 6,
     "metadata": {},
     "output_type": "execute_result"
    }
   ],
   "source": [
    "len(planetnames)"
   ]
  },
  {
   "cell_type": "code",
   "execution_count": 8,
   "id": "916b2d7d",
   "metadata": {},
   "outputs": [
    {
     "data": {
      "text/plain": [
       "'mercury'"
      ]
     },
     "execution_count": 8,
     "metadata": {},
     "output_type": "execute_result"
    }
   ],
   "source": [
    "planetnames[0]"
   ]
  },
  {
   "cell_type": "code",
   "execution_count": 9,
   "id": "6e19186d",
   "metadata": {},
   "outputs": [
    {
     "data": {
      "text/plain": [
       "'earth'"
      ]
     },
     "execution_count": 9,
     "metadata": {},
     "output_type": "execute_result"
    }
   ],
   "source": [
    "planetnames[2]"
   ]
  },
  {
   "cell_type": "code",
   "execution_count": 10,
   "id": "173b3b67",
   "metadata": {},
   "outputs": [
    {
     "data": {
      "text/plain": [
       "['mercury', 'venus']"
      ]
     },
     "execution_count": 10,
     "metadata": {},
     "output_type": "execute_result"
    }
   ],
   "source": [
    "planetnames[0:2]"
   ]
  },
  {
   "cell_type": "code",
   "execution_count": 12,
   "id": "d1203778",
   "metadata": {},
   "outputs": [],
   "source": [
    "planetnames.append('mars')"
   ]
  },
  {
   "cell_type": "code",
   "execution_count": 13,
   "id": "a8bc51bd",
   "metadata": {},
   "outputs": [
    {
     "data": {
      "text/plain": [
       "['mercury', 'venus', 'earth', 'mars']"
      ]
     },
     "execution_count": 13,
     "metadata": {},
     "output_type": "execute_result"
    }
   ],
   "source": [
    "planetnames"
   ]
  },
  {
   "cell_type": "code",
   "execution_count": 14,
   "id": "8fadb486",
   "metadata": {},
   "outputs": [
    {
     "data": {
      "text/plain": [
       "['mercury', 'venus', 'earth', 'mars']"
      ]
     },
     "execution_count": 14,
     "metadata": {},
     "output_type": "execute_result"
    }
   ],
   "source": [
    "planetnames[0:4]"
   ]
  },
  {
   "cell_type": "code",
   "execution_count": 15,
   "id": "82e220d5",
   "metadata": {},
   "outputs": [
    {
     "data": {
      "text/plain": [
       "['mercury', 'venus']"
      ]
     },
     "execution_count": 15,
     "metadata": {},
     "output_type": "execute_result"
    }
   ],
   "source": [
    "planetnames[0:2]"
   ]
  },
  {
   "cell_type": "code",
   "execution_count": 17,
   "id": "e1457ff0",
   "metadata": {},
   "outputs": [],
   "source": [
    "planetnames.append('jupiter')"
   ]
  },
  {
   "cell_type": "code",
   "execution_count": 18,
   "id": "f0c3bc1d",
   "metadata": {},
   "outputs": [
    {
     "data": {
      "text/plain": [
       "['mercury', 'venus', 'earth', 'mars', 'jupiter']"
      ]
     },
     "execution_count": 18,
     "metadata": {},
     "output_type": "execute_result"
    }
   ],
   "source": [
    "planetnames"
   ]
  },
  {
   "cell_type": "code",
   "execution_count": 19,
   "id": "84f74cfa",
   "metadata": {},
   "outputs": [
    {
     "data": {
      "text/plain": [
       "['venus', 'earth']"
      ]
     },
     "execution_count": 19,
     "metadata": {},
     "output_type": "execute_result"
    }
   ],
   "source": [
    "planetnames[-4:-2]"
   ]
  },
  {
   "cell_type": "code",
   "execution_count": 20,
   "id": "aab8ffd2",
   "metadata": {},
   "outputs": [
    {
     "data": {
      "text/plain": [
       "['earth']"
      ]
     },
     "execution_count": 20,
     "metadata": {},
     "output_type": "execute_result"
    }
   ],
   "source": [
    "planetnames[2:3]"
   ]
  },
  {
   "cell_type": "code",
   "execution_count": 28,
   "id": "f42e5842",
   "metadata": {},
   "outputs": [],
   "source": [
    "planetnames.remove('saturn')"
   ]
  },
  {
   "cell_type": "code",
   "execution_count": 30,
   "id": "a0fa4ecb",
   "metadata": {},
   "outputs": [
    {
     "data": {
      "text/plain": [
       "['mercury', 'venus', 'earth', 'mars', 'saturn', 'saturn', 'jupiter']"
      ]
     },
     "execution_count": 30,
     "metadata": {},
     "output_type": "execute_result"
    }
   ],
   "source": [
    "planetnames"
   ]
  },
  {
   "cell_type": "code",
   "execution_count": 31,
   "id": "50f5faf4",
   "metadata": {},
   "outputs": [],
   "source": [
    "planetnames.remove('saturn')"
   ]
  },
  {
   "cell_type": "code",
   "execution_count": 32,
   "id": "e5d75f1c",
   "metadata": {},
   "outputs": [
    {
     "data": {
      "text/plain": [
       "['mercury', 'venus', 'earth', 'mars', 'saturn', 'jupiter']"
      ]
     },
     "execution_count": 32,
     "metadata": {},
     "output_type": "execute_result"
    }
   ],
   "source": [
    "planetnames"
   ]
  },
  {
   "cell_type": "code",
   "execution_count": 33,
   "id": "4be15182",
   "metadata": {},
   "outputs": [],
   "source": [
    "planetnames.remove('saturn')"
   ]
  },
  {
   "cell_type": "code",
   "execution_count": 34,
   "id": "b311ca8d",
   "metadata": {},
   "outputs": [
    {
     "data": {
      "text/plain": [
       "['mercury', 'venus', 'earth', 'mars', 'jupiter']"
      ]
     },
     "execution_count": 34,
     "metadata": {},
     "output_type": "execute_result"
    }
   ],
   "source": [
    "planetnames"
   ]
  },
  {
   "cell_type": "code",
   "execution_count": 35,
   "id": "a0df4c9b",
   "metadata": {},
   "outputs": [],
   "source": [
    "planetnames.insert(6,'saturn')"
   ]
  },
  {
   "cell_type": "code",
   "execution_count": 36,
   "id": "9127e8e0",
   "metadata": {},
   "outputs": [
    {
     "data": {
      "text/plain": [
       "['mercury', 'venus', 'earth', 'mars', 'jupiter', 'saturn']"
      ]
     },
     "execution_count": 36,
     "metadata": {},
     "output_type": "execute_result"
    }
   ],
   "source": [
    "planetnames"
   ]
  },
  {
   "cell_type": "code",
   "execution_count": 37,
   "id": "deb82b38",
   "metadata": {},
   "outputs": [],
   "source": [
    "planetnames.append('urenus')"
   ]
  },
  {
   "cell_type": "code",
   "execution_count": 38,
   "id": "5f2f4b48",
   "metadata": {},
   "outputs": [
    {
     "data": {
      "text/plain": [
       "['mercury', 'venus', 'earth', 'mars', 'jupiter', 'saturn', 'urenus']"
      ]
     },
     "execution_count": 38,
     "metadata": {},
     "output_type": "execute_result"
    }
   ],
   "source": [
    "planetnames"
   ]
  },
  {
   "cell_type": "code",
   "execution_count": 39,
   "id": "a8d9c8b3",
   "metadata": {},
   "outputs": [],
   "source": [
    "planetnames.insert(7,'neptune')"
   ]
  },
  {
   "cell_type": "code",
   "execution_count": 40,
   "id": "630576bf",
   "metadata": {},
   "outputs": [
    {
     "data": {
      "text/plain": [
       "['mercury', 'venus', 'earth', 'mars', 'jupiter', 'saturn', 'urenus', 'neptune']"
      ]
     },
     "execution_count": 40,
     "metadata": {},
     "output_type": "execute_result"
    }
   ],
   "source": [
    "planetnames"
   ]
  },
  {
   "cell_type": "code",
   "execution_count": 41,
   "id": "fbc06a73",
   "metadata": {},
   "outputs": [],
   "source": [
    "planetnames.insert(8,'pluto')\n"
   ]
  },
  {
   "cell_type": "code",
   "execution_count": 43,
   "id": "6fd5bd69",
   "metadata": {},
   "outputs": [
    {
     "data": {
      "text/plain": [
       "['mercury',\n",
       " 'venus',\n",
       " 'earth',\n",
       " 'mars',\n",
       " 'jupiter',\n",
       " 'saturn',\n",
       " 'urenus',\n",
       " 'neptune',\n",
       " 'pluto']"
      ]
     },
     "execution_count": 43,
     "metadata": {},
     "output_type": "execute_result"
    }
   ],
   "source": [
    "planetnames"
   ]
  },
  {
   "cell_type": "code",
   "execution_count": 45,
   "id": "6d0905ba",
   "metadata": {},
   "outputs": [],
   "source": [
    "planetnames.remove('pluto')"
   ]
  },
  {
   "cell_type": "code",
   "execution_count": 46,
   "id": "d832a262",
   "metadata": {},
   "outputs": [
    {
     "data": {
      "text/plain": [
       "['mercury', 'venus', 'earth', 'mars', 'jupiter', 'saturn', 'urenus', 'neptune']"
      ]
     },
     "execution_count": 46,
     "metadata": {},
     "output_type": "execute_result"
    }
   ],
   "source": [
    "planetnames"
   ]
  },
  {
   "cell_type": "code",
   "execution_count": 47,
   "id": "54dd0ca6",
   "metadata": {},
   "outputs": [
    {
     "data": {
      "text/plain": [
       "['mercury', 'venus', 'earth', 'mars', 'jupiter', 'saturn', 'urenus', 'neptune']"
      ]
     },
     "execution_count": 47,
     "metadata": {},
     "output_type": "execute_result"
    }
   ],
   "source": [
    "planetnames[0:8]"
   ]
  },
  {
   "cell_type": "code",
   "execution_count": 48,
   "id": "b3148a25",
   "metadata": {},
   "outputs": [
    {
     "data": {
      "text/plain": [
       "['earth', 'mars', 'jupiter']"
      ]
     },
     "execution_count": 48,
     "metadata": {},
     "output_type": "execute_result"
    }
   ],
   "source": [
    "planetnames[2:5]"
   ]
  },
  {
   "cell_type": "code",
   "execution_count": 49,
   "id": "e8a5e8cc",
   "metadata": {},
   "outputs": [
    {
     "data": {
      "text/plain": [
       "8"
      ]
     },
     "execution_count": 49,
     "metadata": {},
     "output_type": "execute_result"
    }
   ],
   "source": [
    "len(planetnames)"
   ]
  },
  {
   "cell_type": "code",
   "execution_count": 50,
   "id": "cd183d7e",
   "metadata": {},
   "outputs": [
    {
     "data": {
      "text/plain": [
       "['mercury', 'venus', 'earth']"
      ]
     },
     "execution_count": 50,
     "metadata": {},
     "output_type": "execute_result"
    }
   ],
   "source": [
    "planetnames[-8:-5]"
   ]
  },
  {
   "cell_type": "code",
   "execution_count": 54,
   "id": "ef97e841",
   "metadata": {},
   "outputs": [
    {
     "data": {
      "text/plain": [
       "2"
      ]
     },
     "execution_count": 54,
     "metadata": {},
     "output_type": "execute_result"
    }
   ],
   "source": [
    "planetnames.index('earth')"
   ]
  },
  {
   "cell_type": "code",
   "execution_count": 55,
   "id": "1c568184",
   "metadata": {},
   "outputs": [
    {
     "data": {
      "text/plain": [
       "4"
      ]
     },
     "execution_count": 55,
     "metadata": {},
     "output_type": "execute_result"
    }
   ],
   "source": [
    "planetnames.index('jupiter')"
   ]
  },
  {
   "cell_type": "code",
   "execution_count": 56,
   "id": "f142a665",
   "metadata": {},
   "outputs": [],
   "source": [
    "planetnames.sort()"
   ]
  },
  {
   "cell_type": "code",
   "execution_count": 57,
   "id": "575d934b",
   "metadata": {},
   "outputs": [
    {
     "data": {
      "text/plain": [
       "['earth', 'jupiter', 'mars', 'mercury', 'neptune', 'saturn', 'urenus', 'venus']"
      ]
     },
     "execution_count": 57,
     "metadata": {},
     "output_type": "execute_result"
    }
   ],
   "source": [
    "planetnames"
   ]
  },
  {
   "cell_type": "code",
   "execution_count": 59,
   "id": "04d318f2",
   "metadata": {},
   "outputs": [],
   "source": [
    "planetnames.sort()"
   ]
  },
  {
   "cell_type": "code",
   "execution_count": 60,
   "id": "b995ef8e",
   "metadata": {},
   "outputs": [
    {
     "data": {
      "text/plain": [
       "['earth', 'jupiter', 'mars', 'mercury', 'neptune', 'saturn', 'urenus', 'venus']"
      ]
     },
     "execution_count": 60,
     "metadata": {},
     "output_type": "execute_result"
    }
   ],
   "source": [
    "planetnames"
   ]
  },
  {
   "cell_type": "code",
   "execution_count": 61,
   "id": "5685cc9f",
   "metadata": {},
   "outputs": [],
   "source": [
    "planetnames.reverse()"
   ]
  },
  {
   "cell_type": "code",
   "execution_count": 62,
   "id": "0197664d",
   "metadata": {},
   "outputs": [
    {
     "data": {
      "text/plain": [
       "['venus', 'urenus', 'saturn', 'neptune', 'mercury', 'mars', 'jupiter', 'earth']"
      ]
     },
     "execution_count": 62,
     "metadata": {},
     "output_type": "execute_result"
    }
   ],
   "source": [
    "planetnames"
   ]
  },
  {
   "cell_type": "code",
   "execution_count": 63,
   "id": "9f422bed",
   "metadata": {},
   "outputs": [
    {
     "data": {
      "text/plain": [
       "'earth'"
      ]
     },
     "execution_count": 63,
     "metadata": {},
     "output_type": "execute_result"
    }
   ],
   "source": [
    "planetnames.pop()"
   ]
  },
  {
   "cell_type": "code",
   "execution_count": 64,
   "id": "145b0a06",
   "metadata": {},
   "outputs": [
    {
     "data": {
      "text/plain": [
       "'jupiter'"
      ]
     },
     "execution_count": 64,
     "metadata": {},
     "output_type": "execute_result"
    }
   ],
   "source": [
    "planetnames.pop()"
   ]
  },
  {
   "cell_type": "code",
   "execution_count": 65,
   "id": "adf0523f",
   "metadata": {},
   "outputs": [
    {
     "data": {
      "text/plain": [
       "['venus', 'urenus', 'saturn', 'neptune', 'mercury', 'mars']"
      ]
     },
     "execution_count": 65,
     "metadata": {},
     "output_type": "execute_result"
    }
   ],
   "source": [
    "planetnames"
   ]
  },
  {
   "cell_type": "code",
   "execution_count": 66,
   "id": "06d9f1c8",
   "metadata": {},
   "outputs": [],
   "source": [
    "planetnames.insert(6,'jupiter')"
   ]
  },
  {
   "cell_type": "code",
   "execution_count": 67,
   "id": "fce9b241",
   "metadata": {},
   "outputs": [
    {
     "data": {
      "text/plain": [
       "['venus', 'urenus', 'saturn', 'neptune', 'mercury', 'mars', 'jupiter']"
      ]
     },
     "execution_count": 67,
     "metadata": {},
     "output_type": "execute_result"
    }
   ],
   "source": [
    "planetnames"
   ]
  },
  {
   "cell_type": "code",
   "execution_count": 68,
   "id": "49d36fae",
   "metadata": {},
   "outputs": [
    {
     "data": {
      "text/plain": [
       "'urenus'"
      ]
     },
     "execution_count": 68,
     "metadata": {},
     "output_type": "execute_result"
    }
   ],
   "source": [
    "planetnames.pop(1)"
   ]
  },
  {
   "cell_type": "code",
   "execution_count": 69,
   "id": "5fd705f7",
   "metadata": {},
   "outputs": [
    {
     "data": {
      "text/plain": [
       "['venus', 'saturn', 'neptune', 'mercury', 'mars', 'jupiter']"
      ]
     },
     "execution_count": 69,
     "metadata": {},
     "output_type": "execute_result"
    }
   ],
   "source": [
    "planetnames"
   ]
  },
  {
   "cell_type": "code",
   "execution_count": 71,
   "id": "474d0b3a",
   "metadata": {},
   "outputs": [],
   "source": [
    "planetnames.remove('saturn')"
   ]
  },
  {
   "cell_type": "code",
   "execution_count": 73,
   "id": "362f27ec",
   "metadata": {},
   "outputs": [
    {
     "data": {
      "text/plain": [
       "['venus', 'neptune', 'mercury', 'mars', 'jupiter']"
      ]
     },
     "execution_count": 73,
     "metadata": {},
     "output_type": "execute_result"
    }
   ],
   "source": [
    "planetnames"
   ]
  },
  {
   "cell_type": "code",
   "execution_count": 90,
   "id": "2e81213e",
   "metadata": {},
   "outputs": [],
   "source": [
    "planetnames=['merccury','venus','earth','jupiter','urenus','neptune']"
   ]
  },
  {
   "cell_type": "code",
   "execution_count": 91,
   "id": "26b5a7f5",
   "metadata": {},
   "outputs": [
    {
     "data": {
      "text/plain": [
       "['merccury', 'venus', 'earth', 'jupiter', 'urenus', 'neptune']"
      ]
     },
     "execution_count": 91,
     "metadata": {},
     "output_type": "execute_result"
    }
   ],
   "source": [
    "planetnames"
   ]
  },
  {
   "cell_type": "code",
   "execution_count": 92,
   "id": "2b0f4925",
   "metadata": {},
   "outputs": [
    {
     "data": {
      "text/plain": [
       "2"
      ]
     },
     "execution_count": 92,
     "metadata": {},
     "output_type": "execute_result"
    }
   ],
   "source": [
    "planetnames.index('earth')"
   ]
  },
  {
   "cell_type": "code",
   "execution_count": 97,
   "id": "e62b4ab2",
   "metadata": {},
   "outputs": [],
   "source": [
    "planetnames.sort()"
   ]
  },
  {
   "cell_type": "code",
   "execution_count": 98,
   "id": "15822f4c",
   "metadata": {},
   "outputs": [
    {
     "data": {
      "text/plain": [
       "['earth', 'jupiter', 'merccury', 'neptune', 'urenus', 'venus']"
      ]
     },
     "execution_count": 98,
     "metadata": {},
     "output_type": "execute_result"
    }
   ],
   "source": [
    "planetnames"
   ]
  },
  {
   "cell_type": "code",
   "execution_count": 99,
   "id": "5d52fb50",
   "metadata": {},
   "outputs": [],
   "source": [
    "planetnames.reverse()"
   ]
  },
  {
   "cell_type": "code",
   "execution_count": 100,
   "id": "a09b9da7",
   "metadata": {},
   "outputs": [
    {
     "data": {
      "text/plain": [
       "['venus', 'urenus', 'neptune', 'merccury', 'jupiter', 'earth']"
      ]
     },
     "execution_count": 100,
     "metadata": {},
     "output_type": "execute_result"
    }
   ],
   "source": [
    "planetnames"
   ]
  },
  {
   "cell_type": "code",
   "execution_count": 101,
   "id": "cf8bdc65",
   "metadata": {},
   "outputs": [],
   "source": [
    "planetnames.extend(['moon','sun','star'])"
   ]
  },
  {
   "cell_type": "code",
   "execution_count": 124,
   "id": "c3c8a244",
   "metadata": {
    "scrolled": true
   },
   "outputs": [
    {
     "data": {
      "text/plain": [
       "['venus', 'neptune', 'merccury', 'jupiter']"
      ]
     },
     "execution_count": 124,
     "metadata": {},
     "output_type": "execute_result"
    }
   ],
   "source": [
    "planetnames"
   ]
  },
  {
   "cell_type": "code",
   "execution_count": 125,
   "id": "fd0a7bdb",
   "metadata": {},
   "outputs": [],
   "source": [
    "planetnames.extend(['earth','urenus','neptune'])"
   ]
  },
  {
   "cell_type": "code",
   "execution_count": 126,
   "id": "9c09c8df",
   "metadata": {},
   "outputs": [
    {
     "data": {
      "text/plain": [
       "['venus', 'neptune', 'merccury', 'jupiter', 'earth', 'urenus', 'neptune']"
      ]
     },
     "execution_count": 126,
     "metadata": {},
     "output_type": "execute_result"
    }
   ],
   "source": [
    "planetnames"
   ]
  },
  {
   "cell_type": "code",
   "execution_count": 127,
   "id": "e3c06e80",
   "metadata": {},
   "outputs": [
    {
     "data": {
      "text/plain": [
       "'neptune'"
      ]
     },
     "execution_count": 127,
     "metadata": {},
     "output_type": "execute_result"
    }
   ],
   "source": [
    "planetnames.pop(6)"
   ]
  },
  {
   "cell_type": "code",
   "execution_count": 128,
   "id": "6b33aebf",
   "metadata": {},
   "outputs": [
    {
     "data": {
      "text/plain": [
       "['venus', 'neptune', 'merccury', 'jupiter', 'earth', 'urenus']"
      ]
     },
     "execution_count": 128,
     "metadata": {},
     "output_type": "execute_result"
    }
   ],
   "source": [
    "planetnames"
   ]
  },
  {
   "cell_type": "code",
   "execution_count": 130,
   "id": "45579afb",
   "metadata": {},
   "outputs": [
    {
     "data": {
      "text/plain": [
       "'merccury'"
      ]
     },
     "execution_count": 130,
     "metadata": {},
     "output_type": "execute_result"
    }
   ],
   "source": [
    "planetnames[2]"
   ]
  },
  {
   "cell_type": "code",
   "execution_count": 131,
   "id": "25bef14b",
   "metadata": {},
   "outputs": [],
   "source": [
    "planetnames[2]='pluto'"
   ]
  },
  {
   "cell_type": "code",
   "execution_count": 132,
   "id": "8d3e48dc",
   "metadata": {},
   "outputs": [
    {
     "data": {
      "text/plain": [
       "['venus', 'neptune', 'pluto', 'jupiter', 'earth', 'urenus']"
      ]
     },
     "execution_count": 132,
     "metadata": {},
     "output_type": "execute_result"
    }
   ],
   "source": [
    "planetnames"
   ]
  },
  {
   "cell_type": "code",
   "execution_count": 133,
   "id": "f4f3e1ad",
   "metadata": {},
   "outputs": [],
   "source": [
    "planetnames[3]='start'"
   ]
  },
  {
   "cell_type": "code",
   "execution_count": 134,
   "id": "32bba1a1",
   "metadata": {},
   "outputs": [
    {
     "data": {
      "text/plain": [
       "['venus', 'neptune', 'pluto', 'start', 'earth', 'urenus']"
      ]
     },
     "execution_count": 134,
     "metadata": {},
     "output_type": "execute_result"
    }
   ],
   "source": [
    "planetnames"
   ]
  },
  {
   "cell_type": "code",
   "execution_count": 135,
   "id": "6d176572",
   "metadata": {},
   "outputs": [],
   "source": [
    "planetnames[4]='sun'"
   ]
  },
  {
   "cell_type": "code",
   "execution_count": 136,
   "id": "2356aabb",
   "metadata": {},
   "outputs": [
    {
     "data": {
      "text/plain": [
       "['venus', 'neptune', 'pluto', 'start', 'sun', 'urenus']"
      ]
     },
     "execution_count": 136,
     "metadata": {},
     "output_type": "execute_result"
    }
   ],
   "source": [
    "planetnames"
   ]
  },
  {
   "cell_type": "code",
   "execution_count": 139,
   "id": "3fab9636",
   "metadata": {},
   "outputs": [],
   "source": [
    "planetnames.extend(['dhumketu'])"
   ]
  },
  {
   "cell_type": "code",
   "execution_count": 140,
   "id": "8e8f1ab8",
   "metadata": {},
   "outputs": [
    {
     "data": {
      "text/plain": [
       "['venus',\n",
       " 'neptune',\n",
       " 'pluto',\n",
       " 'start',\n",
       " 'sun',\n",
       " 'urenus',\n",
       " 0,\n",
       " 'dhumketu',\n",
       " 'dhumketu']"
      ]
     },
     "execution_count": 140,
     "metadata": {},
     "output_type": "execute_result"
    }
   ],
   "source": [
    "planetnames"
   ]
  },
  {
   "cell_type": "code",
   "execution_count": 141,
   "id": "5392cb0e",
   "metadata": {},
   "outputs": [],
   "source": [
    "planetnames.remove(0)"
   ]
  },
  {
   "cell_type": "code",
   "execution_count": 142,
   "id": "403a78df",
   "metadata": {},
   "outputs": [
    {
     "data": {
      "text/plain": [
       "['venus', 'neptune', 'pluto', 'start', 'sun', 'urenus', 'dhumketu', 'dhumketu']"
      ]
     },
     "execution_count": 142,
     "metadata": {},
     "output_type": "execute_result"
    }
   ],
   "source": [
    "planetnames"
   ]
  },
  {
   "cell_type": "code",
   "execution_count": 144,
   "id": "e698f7e9",
   "metadata": {},
   "outputs": [],
   "source": [
    "planetnames.remove('dhumketu')"
   ]
  },
  {
   "cell_type": "code",
   "execution_count": 145,
   "id": "1935bf71",
   "metadata": {},
   "outputs": [
    {
     "data": {
      "text/plain": [
       "['venus', 'neptune', 'pluto', 'start', 'sun', 'urenus', 'dhumketu']"
      ]
     },
     "execution_count": 145,
     "metadata": {},
     "output_type": "execute_result"
    }
   ],
   "source": [
    "planetnames"
   ]
  },
  {
   "cell_type": "code",
   "execution_count": 146,
   "id": "be51f1c0",
   "metadata": {},
   "outputs": [],
   "source": [
    "planetnames.clear()"
   ]
  },
  {
   "cell_type": "code",
   "execution_count": 147,
   "id": "cb4ec61d",
   "metadata": {},
   "outputs": [
    {
     "data": {
      "text/plain": [
       "[]"
      ]
     },
     "execution_count": 147,
     "metadata": {},
     "output_type": "execute_result"
    }
   ],
   "source": [
    "planetnames"
   ]
  },
  {
   "cell_type": "code",
   "execution_count": 148,
   "id": "7a7f3e56",
   "metadata": {},
   "outputs": [],
   "source": [
    "planetnames.append('banana')"
   ]
  },
  {
   "cell_type": "code",
   "execution_count": 149,
   "id": "bb7698c4",
   "metadata": {},
   "outputs": [
    {
     "data": {
      "text/plain": [
       "['banana']"
      ]
     },
     "execution_count": 149,
     "metadata": {},
     "output_type": "execute_result"
    }
   ],
   "source": [
    "planetnames"
   ]
  },
  {
   "cell_type": "code",
   "execution_count": 150,
   "id": "3dac46d7",
   "metadata": {},
   "outputs": [],
   "source": [
    "numericlist=[1,2,3]"
   ]
  },
  {
   "cell_type": "code",
   "execution_count": 151,
   "id": "50eddb50",
   "metadata": {},
   "outputs": [
    {
     "data": {
      "text/plain": [
       "[1, 2, 3]"
      ]
     },
     "execution_count": 151,
     "metadata": {},
     "output_type": "execute_result"
    }
   ],
   "source": [
    "numericlist"
   ]
  },
  {
   "cell_type": "code",
   "execution_count": 152,
   "id": "f397eb56",
   "metadata": {},
   "outputs": [
    {
     "data": {
      "text/plain": [
       "3"
      ]
     },
     "execution_count": 152,
     "metadata": {},
     "output_type": "execute_result"
    }
   ],
   "source": [
    "len(numericlist)"
   ]
  },
  {
   "cell_type": "code",
   "execution_count": 154,
   "id": "a86bc9bc",
   "metadata": {},
   "outputs": [],
   "source": [
    "fruitlist=['banana','mango']"
   ]
  },
  {
   "cell_type": "code",
   "execution_count": 155,
   "id": "a16183fa",
   "metadata": {},
   "outputs": [
    {
     "data": {
      "text/plain": [
       "['banana', 'mango']"
      ]
     },
     "execution_count": 155,
     "metadata": {},
     "output_type": "execute_result"
    }
   ],
   "source": [
    "fruitlist"
   ]
  },
  {
   "cell_type": "markdown",
   "id": "49720559",
   "metadata": {},
   "source": [
    "tuple"
   ]
  },
  {
   "cell_type": "code",
   "execution_count": 156,
   "id": "45ad82f8",
   "metadata": {},
   "outputs": [],
   "source": [
    "tuple1=(1,2,3,4,5)"
   ]
  },
  {
   "cell_type": "code",
   "execution_count": 157,
   "id": "704f77b8",
   "metadata": {},
   "outputs": [
    {
     "data": {
      "text/plain": [
       "(1, 2, 3, 4, 5)"
      ]
     },
     "execution_count": 157,
     "metadata": {},
     "output_type": "execute_result"
    }
   ],
   "source": [
    "tuple1"
   ]
  },
  {
   "cell_type": "code",
   "execution_count": 158,
   "id": "aebde5e1",
   "metadata": {},
   "outputs": [
    {
     "data": {
      "text/plain": [
       "5"
      ]
     },
     "execution_count": 158,
     "metadata": {},
     "output_type": "execute_result"
    }
   ],
   "source": [
    "len(tuple1)"
   ]
  },
  {
   "cell_type": "code",
   "execution_count": 160,
   "id": "2ddb1d0a",
   "metadata": {},
   "outputs": [
    {
     "data": {
      "text/plain": [
       "2"
      ]
     },
     "execution_count": 160,
     "metadata": {},
     "output_type": "execute_result"
    }
   ],
   "source": [
    "tuple1[1]"
   ]
  },
  {
   "cell_type": "code",
   "execution_count": 161,
   "id": "e1945f5d",
   "metadata": {},
   "outputs": [
    {
     "data": {
      "text/plain": [
       "(3, 4)"
      ]
     },
     "execution_count": 161,
     "metadata": {},
     "output_type": "execute_result"
    }
   ],
   "source": [
    "tuple1[2:4]"
   ]
  },
  {
   "cell_type": "code",
   "execution_count": 163,
   "id": "ab169f54",
   "metadata": {},
   "outputs": [
    {
     "data": {
      "text/plain": [
       "(2, 3, 4)"
      ]
     },
     "execution_count": 163,
     "metadata": {},
     "output_type": "execute_result"
    }
   ],
   "source": [
    "tuple1[-4:-1]"
   ]
  },
  {
   "cell_type": "code",
   "execution_count": 165,
   "id": "5f93d311",
   "metadata": {},
   "outputs": [
    {
     "data": {
      "text/plain": [
       "1"
      ]
     },
     "execution_count": 165,
     "metadata": {},
     "output_type": "execute_result"
    }
   ],
   "source": [
    "tuple1.count(4)"
   ]
  },
  {
   "cell_type": "code",
   "execution_count": 166,
   "id": "2daa5b40",
   "metadata": {},
   "outputs": [
    {
     "data": {
      "text/plain": [
       "1"
      ]
     },
     "execution_count": 166,
     "metadata": {},
     "output_type": "execute_result"
    }
   ],
   "source": [
    "tuple1.count(3)"
   ]
  },
  {
   "cell_type": "code",
   "execution_count": 167,
   "id": "e72a5574",
   "metadata": {},
   "outputs": [
    {
     "ename": "TypeError",
     "evalue": "'tuple' object does not support item assignment",
     "output_type": "error",
     "traceback": [
      "\u001b[1;31m---------------------------------------------------------------------------\u001b[0m",
      "\u001b[1;31mTypeError\u001b[0m                                 Traceback (most recent call last)",
      "Input \u001b[1;32mIn [167]\u001b[0m, in \u001b[0;36m<cell line: 1>\u001b[1;34m()\u001b[0m\n\u001b[1;32m----> 1\u001b[0m tuple1[\u001b[38;5;241m3\u001b[39m]\u001b[38;5;241m=\u001b[39m\u001b[38;5;241m6\u001b[39m\n",
      "\u001b[1;31mTypeError\u001b[0m: 'tuple' object does not support item assignment"
     ]
    }
   ],
   "source": [
    "tuple1[3]=6"
   ]
  },
  {
   "cell_type": "code",
   "execution_count": 168,
   "id": "93564638",
   "metadata": {},
   "outputs": [
    {
     "ename": "AttributeError",
     "evalue": "'tuple' object has no attribute 'reverse'",
     "output_type": "error",
     "traceback": [
      "\u001b[1;31m---------------------------------------------------------------------------\u001b[0m",
      "\u001b[1;31mAttributeError\u001b[0m                            Traceback (most recent call last)",
      "Input \u001b[1;32mIn [168]\u001b[0m, in \u001b[0;36m<cell line: 1>\u001b[1;34m()\u001b[0m\n\u001b[1;32m----> 1\u001b[0m \u001b[43mtuple1\u001b[49m\u001b[38;5;241;43m.\u001b[39;49m\u001b[43mreverse\u001b[49m()\n",
      "\u001b[1;31mAttributeError\u001b[0m: 'tuple' object has no attribute 'reverse'"
     ]
    }
   ],
   "source": [
    "tuple1.reverse()"
   ]
  },
  {
   "cell_type": "code",
   "execution_count": 170,
   "id": "bae72898",
   "metadata": {},
   "outputs": [
    {
     "ename": "AttributeError",
     "evalue": "'tuple' object has no attribute 'insert'",
     "output_type": "error",
     "traceback": [
      "\u001b[1;31m---------------------------------------------------------------------------\u001b[0m",
      "\u001b[1;31mAttributeError\u001b[0m                            Traceback (most recent call last)",
      "Input \u001b[1;32mIn [170]\u001b[0m, in \u001b[0;36m<cell line: 1>\u001b[1;34m()\u001b[0m\n\u001b[1;32m----> 1\u001b[0m \u001b[43mtuple1\u001b[49m\u001b[38;5;241;43m.\u001b[39;49m\u001b[43minsert\u001b[49m(\u001b[38;5;241m1\u001b[39m,\u001b[38;5;124m'\u001b[39m\u001b[38;5;124ma\u001b[39m\u001b[38;5;124m'\u001b[39m,\u001b[38;5;124m'\u001b[39m\u001b[38;5;124md\u001b[39m\u001b[38;5;124m'\u001b[39m)\n",
      "\u001b[1;31mAttributeError\u001b[0m: 'tuple' object has no attribute 'insert'"
     ]
    }
   ],
   "source": [
    "tuple1.insert(1,'a','d')"
   ]
  },
  {
   "cell_type": "code",
   "execution_count": 174,
   "id": "da27fead",
   "metadata": {},
   "outputs": [],
   "source": [
    "tuple1=(1,54,66,'s','de',1)"
   ]
  },
  {
   "cell_type": "code",
   "execution_count": 175,
   "id": "c0d47511",
   "metadata": {},
   "outputs": [
    {
     "data": {
      "text/plain": [
       "(1, 54, 66, 's', 'de', 1)"
      ]
     },
     "execution_count": 175,
     "metadata": {},
     "output_type": "execute_result"
    }
   ],
   "source": [
    "tuple1"
   ]
  },
  {
   "cell_type": "code",
   "execution_count": 176,
   "id": "dc64e140",
   "metadata": {},
   "outputs": [
    {
     "ename": "AttributeError",
     "evalue": "'tuple' object has no attribute 'pop'",
     "output_type": "error",
     "traceback": [
      "\u001b[1;31m---------------------------------------------------------------------------\u001b[0m",
      "\u001b[1;31mAttributeError\u001b[0m                            Traceback (most recent call last)",
      "Input \u001b[1;32mIn [176]\u001b[0m, in \u001b[0;36m<cell line: 1>\u001b[1;34m()\u001b[0m\n\u001b[1;32m----> 1\u001b[0m \u001b[43mtuple1\u001b[49m\u001b[38;5;241;43m.\u001b[39;49m\u001b[43mpop\u001b[49m()\n",
      "\u001b[1;31mAttributeError\u001b[0m: 'tuple' object has no attribute 'pop'"
     ]
    }
   ],
   "source": [
    "tuple1.pop()"
   ]
  },
  {
   "cell_type": "code",
   "execution_count": 177,
   "id": "4b2fa66d",
   "metadata": {},
   "outputs": [
    {
     "data": {
      "text/plain": [
       "2"
      ]
     },
     "execution_count": 177,
     "metadata": {},
     "output_type": "execute_result"
    }
   ],
   "source": [
    "tuple1.count(1)"
   ]
  },
  {
   "cell_type": "code",
   "execution_count": 178,
   "id": "ed77da40",
   "metadata": {},
   "outputs": [],
   "source": [
    "planetnames=['earth']"
   ]
  },
  {
   "cell_type": "code",
   "execution_count": 179,
   "id": "38520305",
   "metadata": {},
   "outputs": [
    {
     "data": {
      "text/plain": [
       "['earth']"
      ]
     },
     "execution_count": 179,
     "metadata": {},
     "output_type": "execute_result"
    }
   ],
   "source": [
    "planetnames"
   ]
  },
  {
   "cell_type": "code",
   "execution_count": 180,
   "id": "dad7d8bd",
   "metadata": {},
   "outputs": [
    {
     "data": {
      "text/plain": [
       "1"
      ]
     },
     "execution_count": 180,
     "metadata": {},
     "output_type": "execute_result"
    }
   ],
   "source": [
    "len(planetnames)"
   ]
  },
  {
   "cell_type": "code",
   "execution_count": 181,
   "id": "203b84ed",
   "metadata": {},
   "outputs": [],
   "source": [
    "tuple2=['r','t','y']"
   ]
  },
  {
   "cell_type": "code",
   "execution_count": 182,
   "id": "c07b003b",
   "metadata": {},
   "outputs": [
    {
     "data": {
      "text/plain": [
       "['r', 't', 'y']"
      ]
     },
     "execution_count": 182,
     "metadata": {},
     "output_type": "execute_result"
    }
   ],
   "source": [
    "tuple2"
   ]
  },
  {
   "cell_type": "code",
   "execution_count": 183,
   "id": "b5074732",
   "metadata": {},
   "outputs": [
    {
     "data": {
      "text/plain": [
       "1"
      ]
     },
     "execution_count": 183,
     "metadata": {},
     "output_type": "execute_result"
    }
   ],
   "source": [
    "tuple2.count('r')"
   ]
  },
  {
   "cell_type": "code",
   "execution_count": 184,
   "id": "e7371af3",
   "metadata": {},
   "outputs": [],
   "source": [
    "d1={'id':1,'name':'debangshu','grade':1}"
   ]
  },
  {
   "cell_type": "code",
   "execution_count": 185,
   "id": "56e93ec1",
   "metadata": {},
   "outputs": [
    {
     "data": {
      "text/plain": [
       "{'id': 1, 'name': 'debangshu', 'grade': 1}"
      ]
     },
     "execution_count": 185,
     "metadata": {},
     "output_type": "execute_result"
    }
   ],
   "source": [
    "d1"
   ]
  },
  {
   "cell_type": "code",
   "execution_count": 189,
   "id": "51dd1ed8",
   "metadata": {},
   "outputs": [
    {
     "data": {
      "text/plain": [
       "1"
      ]
     },
     "execution_count": 189,
     "metadata": {},
     "output_type": "execute_result"
    }
   ],
   "source": [
    "d1['id']"
   ]
  },
  {
   "cell_type": "code",
   "execution_count": 190,
   "id": "a37518ca",
   "metadata": {},
   "outputs": [
    {
     "data": {
      "text/plain": [
       "'debangshu'"
      ]
     },
     "execution_count": 190,
     "metadata": {},
     "output_type": "execute_result"
    }
   ],
   "source": [
    "d1['name']"
   ]
  },
  {
   "cell_type": "code",
   "execution_count": 191,
   "id": "df154abc",
   "metadata": {},
   "outputs": [
    {
     "data": {
      "text/plain": [
       "1"
      ]
     },
     "execution_count": 191,
     "metadata": {},
     "output_type": "execute_result"
    }
   ],
   "source": [
    "d1['grade']"
   ]
  },
  {
   "cell_type": "code",
   "execution_count": 195,
   "id": "cc074ad9",
   "metadata": {},
   "outputs": [],
   "source": [
    "d1.update({'fees':2000})"
   ]
  },
  {
   "cell_type": "code",
   "execution_count": 196,
   "id": "7c785913",
   "metadata": {},
   "outputs": [
    {
     "data": {
      "text/plain": [
       "{'name': ['Debangshu', 'Arghya'], 'id': [1, 2], 'grade': [1, 2], 'fees': 2000}"
      ]
     },
     "execution_count": 196,
     "metadata": {},
     "output_type": "execute_result"
    }
   ],
   "source": [
    "d1"
   ]
  },
  {
   "cell_type": "code",
   "execution_count": 192,
   "id": "d9f8217e",
   "metadata": {},
   "outputs": [],
   "source": [
    "d1={'name':['Debangshu','Arghya'],'id':[1,2],'grade':[1,2]}"
   ]
  },
  {
   "cell_type": "code",
   "execution_count": 193,
   "id": "f85cbb10",
   "metadata": {},
   "outputs": [
    {
     "data": {
      "text/plain": [
       "{'name': ['Debangshu', 'Arghya'], 'id': [1, 2], 'grade': [1, 2]}"
      ]
     },
     "execution_count": 193,
     "metadata": {},
     "output_type": "execute_result"
    }
   ],
   "source": [
    "d1"
   ]
  },
  {
   "cell_type": "code",
   "execution_count": 235,
   "id": "b9027d4e",
   "metadata": {},
   "outputs": [
    {
     "ename": "TypeError",
     "evalue": "'set' object is not subscriptable",
     "output_type": "error",
     "traceback": [
      "\u001b[1;31m---------------------------------------------------------------------------\u001b[0m",
      "\u001b[1;31mTypeError\u001b[0m                                 Traceback (most recent call last)",
      "Input \u001b[1;32mIn [235]\u001b[0m, in \u001b[0;36m<cell line: 1>\u001b[1;34m()\u001b[0m\n\u001b[1;32m----> 1\u001b[0m \u001b[43md1\u001b[49m\u001b[43m[\u001b[49m\u001b[38;5;124;43m'\u001b[39;49m\u001b[38;5;124;43mname\u001b[39;49m\u001b[38;5;124;43m'\u001b[39;49m\u001b[43m]\u001b[49m\u001b[43m[\u001b[49m\u001b[38;5;241;43m1\u001b[39;49m\u001b[43m]\u001b[49m\n",
      "\u001b[1;31mTypeError\u001b[0m: 'set' object is not subscriptable"
     ]
    }
   ],
   "source": [
    "d1['name'][1]"
   ]
  },
  {
   "cell_type": "code",
   "execution_count": 197,
   "id": "e2d70553",
   "metadata": {},
   "outputs": [],
   "source": [
    "d1['fees']=8000"
   ]
  },
  {
   "cell_type": "code",
   "execution_count": 198,
   "id": "6e5ffa6c",
   "metadata": {},
   "outputs": [
    {
     "data": {
      "text/plain": [
       "{'name': ['Debangshu', 'Arghya'], 'id': [1, 2], 'grade': [1, 2], 'fees': 8000}"
      ]
     },
     "execution_count": 198,
     "metadata": {},
     "output_type": "execute_result"
    }
   ],
   "source": [
    "d1"
   ]
  },
  {
   "cell_type": "code",
   "execution_count": 219,
   "id": "4a17deb6",
   "metadata": {},
   "outputs": [
    {
     "data": {
      "text/plain": [
       "{'Debangshu', 'jayee', 'rahul'}"
      ]
     },
     "execution_count": 219,
     "metadata": {},
     "output_type": "execute_result"
    }
   ],
   "source": [
    "d1['name']"
   ]
  },
  {
   "cell_type": "code",
   "execution_count": 236,
   "id": "d800c903",
   "metadata": {},
   "outputs": [
    {
     "ename": "TypeError",
     "evalue": "'set' object is not subscriptable",
     "output_type": "error",
     "traceback": [
      "\u001b[1;31m---------------------------------------------------------------------------\u001b[0m",
      "\u001b[1;31mTypeError\u001b[0m                                 Traceback (most recent call last)",
      "Input \u001b[1;32mIn [236]\u001b[0m, in \u001b[0;36m<cell line: 1>\u001b[1;34m()\u001b[0m\n\u001b[1;32m----> 1\u001b[0m \u001b[43md1\u001b[49m\u001b[43m[\u001b[49m\u001b[38;5;124;43m'\u001b[39;49m\u001b[38;5;124;43mname\u001b[39;49m\u001b[38;5;124;43m'\u001b[39;49m\u001b[43m]\u001b[49m\u001b[43m[\u001b[49m\u001b[38;5;241;43m2\u001b[39;49m\u001b[43m]\u001b[49m\n",
      "\u001b[1;31mTypeError\u001b[0m: 'set' object is not subscriptable"
     ]
    }
   ],
   "source": [
    "d1['name'][2]\n",
    "          "
   ]
  },
  {
   "cell_type": "code",
   "execution_count": 221,
   "id": "ba2e3f9b",
   "metadata": {},
   "outputs": [
    {
     "data": {
      "text/plain": [
       "{'Debangshu', 'jayee', 'rahul'}"
      ]
     },
     "execution_count": 221,
     "metadata": {},
     "output_type": "execute_result"
    }
   ],
   "source": [
    "d1['name']"
   ]
  },
  {
   "cell_type": "code",
   "execution_count": 222,
   "id": "15de83b0",
   "metadata": {},
   "outputs": [],
   "source": [
    "d1['name']={'rahul','Debangshu','jayee'}"
   ]
  },
  {
   "cell_type": "code",
   "execution_count": 223,
   "id": "290e21eb",
   "metadata": {},
   "outputs": [
    {
     "data": {
      "text/plain": [
       "{'Debangshu', 'jayee', 'rahul'}"
      ]
     },
     "execution_count": 223,
     "metadata": {},
     "output_type": "execute_result"
    }
   ],
   "source": [
    "d1['name']"
   ]
  },
  {
   "cell_type": "code",
   "execution_count": 224,
   "id": "c57b922f",
   "metadata": {},
   "outputs": [
    {
     "ename": "AttributeError",
     "evalue": "'dict' object has no attribute 'reverse'",
     "output_type": "error",
     "traceback": [
      "\u001b[1;31m---------------------------------------------------------------------------\u001b[0m",
      "\u001b[1;31mAttributeError\u001b[0m                            Traceback (most recent call last)",
      "Input \u001b[1;32mIn [224]\u001b[0m, in \u001b[0;36m<cell line: 1>\u001b[1;34m()\u001b[0m\n\u001b[1;32m----> 1\u001b[0m \u001b[43md1\u001b[49m\u001b[38;5;241;43m.\u001b[39;49m\u001b[43mreverse\u001b[49m[\u001b[38;5;124m'\u001b[39m\u001b[38;5;124mname\u001b[39m\u001b[38;5;124m'\u001b[39m]\n",
      "\u001b[1;31mAttributeError\u001b[0m: 'dict' object has no attribute 'reverse'"
     ]
    }
   ],
   "source": [
    "d1.reverse['name']"
   ]
  },
  {
   "cell_type": "code",
   "execution_count": 225,
   "id": "cd4c344f",
   "metadata": {},
   "outputs": [
    {
     "ename": "SyntaxError",
     "evalue": "invalid syntax (3849318406.py, line 1)",
     "output_type": "error",
     "traceback": [
      "\u001b[1;36m  Input \u001b[1;32mIn [225]\u001b[1;36m\u001b[0m\n\u001b[1;33m    d1.insert{['name':1,'sutapa']}\u001b[0m\n\u001b[1;37m             ^\u001b[0m\n\u001b[1;31mSyntaxError\u001b[0m\u001b[1;31m:\u001b[0m invalid syntax\n"
     ]
    }
   ],
   "source": [
    "d1.insert{['name':1,'sutapa']}"
   ]
  },
  {
   "cell_type": "code",
   "execution_count": 226,
   "id": "600cdb25",
   "metadata": {},
   "outputs": [
    {
     "data": {
      "text/plain": [
       "dict_keys(['name', 'id', 'grade', 'fees'])"
      ]
     },
     "execution_count": 226,
     "metadata": {},
     "output_type": "execute_result"
    }
   ],
   "source": [
    "d1.keys()"
   ]
  },
  {
   "cell_type": "code",
   "execution_count": 228,
   "id": "f7205ef8",
   "metadata": {},
   "outputs": [
    {
     "data": {
      "text/plain": [
       "dict_items([('name', {'jayee', 'rahul', 'Debangshu'}), ('id', [1, 2]), ('grade', [1, 2]), ('fees', 8000)])"
      ]
     },
     "execution_count": 228,
     "metadata": {},
     "output_type": "execute_result"
    }
   ],
   "source": [
    "d1.items()"
   ]
  },
  {
   "cell_type": "code",
   "execution_count": 229,
   "id": "8ca9180f",
   "metadata": {},
   "outputs": [
    {
     "data": {
      "text/plain": [
       "dict_values([{'jayee', 'rahul', 'Debangshu'}, [1, 2], [1, 2], 8000])"
      ]
     },
     "execution_count": 229,
     "metadata": {},
     "output_type": "execute_result"
    }
   ],
   "source": [
    "d1.values()"
   ]
  },
  {
   "cell_type": "code",
   "execution_count": 232,
   "id": "1f5d2d28",
   "metadata": {},
   "outputs": [
    {
     "data": {
      "text/plain": [
       "{'name': {'Debangshu', 'jayee', 'rahul'},\n",
       " 'id': [1, 2],\n",
       " 'grade': [1, 2],\n",
       " 'fees': 8000}"
      ]
     },
     "execution_count": 232,
     "metadata": {},
     "output_type": "execute_result"
    }
   ],
   "source": [
    "d1"
   ]
  },
  {
   "cell_type": "code",
   "execution_count": 239,
   "id": "3c3d6fd1",
   "metadata": {},
   "outputs": [
    {
     "ename": "TypeError",
     "evalue": "'set' object is not subscriptable",
     "output_type": "error",
     "traceback": [
      "\u001b[1;31m---------------------------------------------------------------------------\u001b[0m",
      "\u001b[1;31mTypeError\u001b[0m                                 Traceback (most recent call last)",
      "Input \u001b[1;32mIn [239]\u001b[0m, in \u001b[0;36m<cell line: 1>\u001b[1;34m()\u001b[0m\n\u001b[1;32m----> 1\u001b[0m \u001b[43md1\u001b[49m\u001b[43m[\u001b[49m\u001b[38;5;124;43m'\u001b[39;49m\u001b[38;5;124;43mname\u001b[39;49m\u001b[38;5;124;43m'\u001b[39;49m\u001b[43m]\u001b[49m\u001b[43m[\u001b[49m\u001b[38;5;241;43m1\u001b[39;49m\u001b[43m]\u001b[49m\n",
      "\u001b[1;31mTypeError\u001b[0m: 'set' object is not subscriptable"
     ]
    }
   ],
   "source": [
    "d1['name'][1]"
   ]
  },
  {
   "cell_type": "code",
   "execution_count": 234,
   "id": "0da8eaea",
   "metadata": {},
   "outputs": [
    {
     "data": {
      "text/plain": [
       "1"
      ]
     },
     "execution_count": 234,
     "metadata": {},
     "output_type": "execute_result"
    }
   ],
   "source": [
    "d1['id'][0]"
   ]
  },
  {
   "cell_type": "code",
   "execution_count": 238,
   "id": "65eb761b",
   "metadata": {},
   "outputs": [
    {
     "data": {
      "text/plain": [
       "2"
      ]
     },
     "execution_count": 238,
     "metadata": {},
     "output_type": "execute_result"
    }
   ],
   "source": [
    "d1['grade'][1]"
   ]
  },
  {
   "cell_type": "code",
   "execution_count": 240,
   "id": "53e02d20",
   "metadata": {},
   "outputs": [],
   "source": [
    "d2={'name':['rahul','ayan','raju'],'roll':[1,2,3],'sec':['a','b','c']}"
   ]
  },
  {
   "cell_type": "code",
   "execution_count": 241,
   "id": "4622f97c",
   "metadata": {},
   "outputs": [
    {
     "data": {
      "text/plain": [
       "{'name': ['rahul', 'ayan', 'raju'], 'roll': [1, 2, 3], 'sec': ['a', 'b', 'c']}"
      ]
     },
     "execution_count": 241,
     "metadata": {},
     "output_type": "execute_result"
    }
   ],
   "source": [
    "d2"
   ]
  },
  {
   "cell_type": "code",
   "execution_count": 242,
   "id": "d5a1b045",
   "metadata": {},
   "outputs": [
    {
     "data": {
      "text/plain": [
       "'ayan'"
      ]
     },
     "execution_count": 242,
     "metadata": {},
     "output_type": "execute_result"
    }
   ],
   "source": [
    "d2['name'][1]"
   ]
  },
  {
   "cell_type": "code",
   "execution_count": 243,
   "id": "3290f1fe",
   "metadata": {},
   "outputs": [
    {
     "data": {
      "text/plain": [
       "1"
      ]
     },
     "execution_count": 243,
     "metadata": {},
     "output_type": "execute_result"
    }
   ],
   "source": [
    "d2['roll'][0]"
   ]
  },
  {
   "cell_type": "code",
   "execution_count": 244,
   "id": "b2ba0753",
   "metadata": {},
   "outputs": [
    {
     "data": {
      "text/plain": [
       "'b'"
      ]
     },
     "execution_count": 244,
     "metadata": {},
     "output_type": "execute_result"
    }
   ],
   "source": [
    "d2['sec'][1]"
   ]
  },
  {
   "cell_type": "code",
   "execution_count": null,
   "id": "ee7c83fe",
   "metadata": {},
   "outputs": [],
   "source": []
  }
 ],
 "metadata": {
  "kernelspec": {
   "display_name": "Python 3 (ipykernel)",
   "language": "python",
   "name": "python3"
  },
  "language_info": {
   "codemirror_mode": {
    "name": "ipython",
    "version": 3
   },
   "file_extension": ".py",
   "mimetype": "text/x-python",
   "name": "python",
   "nbconvert_exporter": "python",
   "pygments_lexer": "ipython3",
   "version": "3.9.12"
  }
 },
 "nbformat": 4,
 "nbformat_minor": 5
}
